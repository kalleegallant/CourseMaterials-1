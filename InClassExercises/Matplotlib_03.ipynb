{
  "cells": [
    {
      "cell_type": "markdown",
      "source": [
        "# Matplotlib Calisthenics\n",
        "This notebook contains several mini projects to help broaden your skills using (Matplotlib)[https://matplotlib.org]. Don't forget that there is a great (gallery of example plots)[https://matplotlib.org/gallery/index.html] to help you get started."
      ],
      "metadata": {
        "nteract": {
          "transient": {
            "deleting": false
          }
        }
      }
    },
    {
      "cell_type": "code",
      "source": [
        "def make_fake_data(tmin, tmax, N=200, z0 =400, g= 3.14):\n",
        "    from numpy.random import randn\n",
        "    t = np.linspace(tmin, tmax, N)\n",
        "    noise = 1*randn(N)\n",
        "    v = - g*t + noise\n",
        "    z = z0 - 0.5*g*t**2 + noise\n",
        "    return t, z, v"
      ],
      "outputs": [],
      "execution_count": 2,
      "metadata": {
        "collapsed": false,
        "jupyter": {
          "outputs_hidden": false,
          "source_hidden": false
        },
        "nteract": {
          "transient": {
            "deleting": false
          }
        }
      }
    },
    {
      "cell_type": "markdown",
      "source": [
        "# 28 Jan 2020 Class 03\n",
        "## Activity 1\n",
        "The above cell produces some fake data for a rock falling from a cliff on a planet with acceleration due to gravity $g$. Use this function to create a set of three arrays called $t$, $y$, and $v$. Have the time values go from $t=0$ to $t=20$ seconds."
      ],
      "metadata": {
        "nteract": {
          "transient": {
            "deleting": false
          }
        }
      }
    },
    {
      "cell_type": "markdown",
      "source": [
        "## Activity 2\n",
        "Make a plot of position versus time. Label your axes and include units."
      ],
      "metadata": {
        "nteract": {
          "transient": {
            "deleting": false
          }
        }
      }
    },
    {
      "cell_type": "markdown",
      "source": [
        "## Activity 3 \n",
        "Now use Matplotlib subplot capability to make two vertically stacked plots; the top plot should be position versus time, and the bottom plot, velocity versus time. Since both plots have the same time axis values, only label the tick marks on the bottom plot (this is referred to as shared axes)."
      ],
      "metadata": {
        "nteract": {
          "transient": {
            "deleting": false
          }
        }
      }
    },
    {
      "cell_type": "markdown",
      "source": [
        "## Activity 4\n",
        "Now suppose you want to share the data arrays with someone. You'll might want to send a comma-separated text file with three columns: $t, y, v$.\n",
        "Use numpy's savetxt() command to save out a datafile called motion_data.csv. Format the data in three columns with only 3 decimal places showing, and\n",
        "separate each value with a comma.Also, figure out how to label each column with two header lines: $t, y, v$ on the topmost line, and $s, m, m/s$ on the second line."
      ],
      "metadata": {
        "nteract": {
          "transient": {
            "deleting": false
          }
        }
      }
    },
    {
      "cell_type": "markdown",
      "source": [
        "## Activity 5\n",
        "Using the data, you have available in the arrays, what must be the acceleration due to gravity on the planet?\n",
        "Use a markdown cell (or cells) and code cells to explain your reasoning!"
      ],
      "metadata": {
        "jupyter": {
          "outputs_hidden": false,
          "source_hidden": false
        },
        "nteract": {
          "transient": {
            "deleting": false
          }
        }
      }
    }
  ],
  "metadata": {
    "kernel_info": {
      "name": "python3"
    },
    "kernelspec": {
      "display_name": "Python 3",
      "language": "python",
      "name": "python3"
    },
    "language_info": {
      "name": "python",
      "version": "3.7.6",
      "mimetype": "text/x-python",
      "codemirror_mode": {
        "name": "ipython",
        "version": 3
      },
      "pygments_lexer": "ipython3",
      "nbconvert_exporter": "python",
      "file_extension": ".py"
    },
    "nteract": {
      "version": "0.21.0"
    }
  },
  "nbformat": 4,
  "nbformat_minor": 4
}
