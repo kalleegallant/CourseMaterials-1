{
  "cells": [
    {
      "cell_type": "markdown",
      "source": [
        "# IMPORTING DATA USING PANDAS"
      ],
      "metadata": {
        "nteract": {
          "transient": {
            "deleting": false
          }
        }
      }
    },
    {
      "cell_type": "markdown",
      "source": [
        "Sometimes you may need to work with data.  One tool you can keep on hand is pandas (https://pandas.pydata.org), which will allow you to manipulate and analyze your data within your notebook."
      ],
      "metadata": {
        "nteract": {
          "transient": {
            "deleting": false
          }
        }
      }
    },
    {
      "cell_type": "code",
      "source": [
        "import pandas as pd #imports the package "
      ],
      "outputs": [],
      "execution_count": 2,
      "metadata": {
        "collapsed": false,
        "jupyter": {
          "outputs_hidden": false,
          "source_hidden": false
        },
        "nteract": {
          "transient": {
            "deleting": false
          }
        }
      }
    },
    {
      "cell_type": "code",
      "source": [
        "df=pd.DataFrame(data = [               #Allows you to create your own data\n",
        "['NJ', 'Towaco', 'Square'], \n",
        "['CA', 'San Francisco', 'Oval'], \n",
        "['TX', 'Austin', 'Triangle'], \n",
        "['MD', 'Baltimore', 'Square'], \n",
        "['OH', 'Columbus', 'Hexagon'], \n",
        "['IL', 'Chicago', 'Circle']\n",
        "],\n",
        "columns = ['State', 'City', 'Shape'])\n",
        "df"
      ],
      "outputs": [
        {
          "output_type": "execute_result",
          "execution_count": 3,
          "data": {
            "text/html": [
              "<div>\n",
              "<style scoped>\n",
              "    .dataframe tbody tr th:only-of-type {\n",
              "        vertical-align: middle;\n",
              "    }\n",
              "\n",
              "    .dataframe tbody tr th {\n",
              "        vertical-align: top;\n",
              "    }\n",
              "\n",
              "    .dataframe thead th {\n",
              "        text-align: right;\n",
              "    }\n",
              "</style>\n",
              "<table border=\"1\" class=\"dataframe\">\n",
              "  <thead>\n",
              "    <tr style=\"text-align: right;\">\n",
              "      <th></th>\n",
              "      <th>State</th>\n",
              "      <th>City</th>\n",
              "      <th>Shape</th>\n",
              "    </tr>\n",
              "  </thead>\n",
              "  <tbody>\n",
              "    <tr>\n",
              "      <th>0</th>\n",
              "      <td>NJ</td>\n",
              "      <td>Towaco</td>\n",
              "      <td>Square</td>\n",
              "    </tr>\n",
              "    <tr>\n",
              "      <th>1</th>\n",
              "      <td>CA</td>\n",
              "      <td>San Francisco</td>\n",
              "      <td>Oval</td>\n",
              "    </tr>\n",
              "    <tr>\n",
              "      <th>2</th>\n",
              "      <td>TX</td>\n",
              "      <td>Austin</td>\n",
              "      <td>Triangle</td>\n",
              "    </tr>\n",
              "    <tr>\n",
              "      <th>3</th>\n",
              "      <td>MD</td>\n",
              "      <td>Baltimore</td>\n",
              "      <td>Square</td>\n",
              "    </tr>\n",
              "    <tr>\n",
              "      <th>4</th>\n",
              "      <td>OH</td>\n",
              "      <td>Columbus</td>\n",
              "      <td>Hexagon</td>\n",
              "    </tr>\n",
              "    <tr>\n",
              "      <th>5</th>\n",
              "      <td>IL</td>\n",
              "      <td>Chicago</td>\n",
              "      <td>Circle</td>\n",
              "    </tr>\n",
              "  </tbody>\n",
              "</table>\n",
              "</div>"
            ],
            "text/plain": [
              "  State           City     Shape\n",
              "0    NJ         Towaco    Square\n",
              "1    CA  San Francisco      Oval\n",
              "2    TX         Austin  Triangle\n",
              "3    MD      Baltimore    Square\n",
              "4    OH       Columbus   Hexagon\n",
              "5    IL        Chicago    Circle"
            ]
          },
          "metadata": {}
        }
      ],
      "execution_count": 3,
      "metadata": {
        "collapsed": false,
        "jupyter": {
          "outputs_hidden": false,
          "source_hidden": false
        },
        "nteract": {
          "transient": {
            "deleting": false
          }
        }
      }
    },
    {
      "cell_type": "code",
      "source": [
        "df.info()       #gives you information about your data "
      ],
      "outputs": [
        {
          "output_type": "stream",
          "name": "stdout",
          "text": [
            "<class 'pandas.core.frame.DataFrame'>\n",
            "RangeIndex: 6 entries, 0 to 5\n",
            "Data columns (total 3 columns):\n",
            " #   Column  Non-Null Count  Dtype \n",
            "---  ------  --------------  ----- \n",
            " 0   State   6 non-null      object\n",
            " 1   City    6 non-null      object\n",
            " 2   Shape   6 non-null      object\n",
            "dtypes: object(3)\n",
            "memory usage: 272.0+ bytes\n"
          ]
        }
      ],
      "execution_count": 4,
      "metadata": {
        "collapsed": false,
        "jupyter": {
          "outputs_hidden": false,
          "source_hidden": false
        },
        "nteract": {
          "transient": {
            "deleting": false
          }
        }
      }
    },
    {
      "cell_type": "code",
      "source": [
        "df.to_csv('FAKE_DATA.csv', index=False)"
      ],
      "outputs": [],
      "execution_count": 5,
      "metadata": {}
    },
    {
      "cell_type": "code",
      "source": [
        "new_df = pd.read_csv('FAKE_DATA.csv')   #allows you to import the data as a dataframe\n",
        "\n",
        "new_df                                  #displays the dataframe "
      ],
      "outputs": [
        {
          "output_type": "execute_result",
          "execution_count": 6,
          "data": {
            "text/html": [
              "<div>\n",
              "<style scoped>\n",
              "    .dataframe tbody tr th:only-of-type {\n",
              "        vertical-align: middle;\n",
              "    }\n",
              "\n",
              "    .dataframe tbody tr th {\n",
              "        vertical-align: top;\n",
              "    }\n",
              "\n",
              "    .dataframe thead th {\n",
              "        text-align: right;\n",
              "    }\n",
              "</style>\n",
              "<table border=\"1\" class=\"dataframe\">\n",
              "  <thead>\n",
              "    <tr style=\"text-align: right;\">\n",
              "      <th></th>\n",
              "      <th>State</th>\n",
              "      <th>City</th>\n",
              "      <th>Shape</th>\n",
              "    </tr>\n",
              "  </thead>\n",
              "  <tbody>\n",
              "    <tr>\n",
              "      <th>0</th>\n",
              "      <td>NJ</td>\n",
              "      <td>Towaco</td>\n",
              "      <td>Square</td>\n",
              "    </tr>\n",
              "    <tr>\n",
              "      <th>1</th>\n",
              "      <td>CA</td>\n",
              "      <td>San Francisco</td>\n",
              "      <td>Oval</td>\n",
              "    </tr>\n",
              "    <tr>\n",
              "      <th>2</th>\n",
              "      <td>TX</td>\n",
              "      <td>Austin</td>\n",
              "      <td>Triangle</td>\n",
              "    </tr>\n",
              "    <tr>\n",
              "      <th>3</th>\n",
              "      <td>MD</td>\n",
              "      <td>Baltimore</td>\n",
              "      <td>Square</td>\n",
              "    </tr>\n",
              "    <tr>\n",
              "      <th>4</th>\n",
              "      <td>OH</td>\n",
              "      <td>Columbus</td>\n",
              "      <td>Hexagon</td>\n",
              "    </tr>\n",
              "    <tr>\n",
              "      <th>5</th>\n",
              "      <td>IL</td>\n",
              "      <td>Chicago</td>\n",
              "      <td>Circle</td>\n",
              "    </tr>\n",
              "  </tbody>\n",
              "</table>\n",
              "</div>"
            ],
            "text/plain": [
              "  State           City     Shape\n",
              "0    NJ         Towaco    Square\n",
              "1    CA  San Francisco      Oval\n",
              "2    TX         Austin  Triangle\n",
              "3    MD      Baltimore    Square\n",
              "4    OH       Columbus   Hexagon\n",
              "5    IL        Chicago    Circle"
            ]
          },
          "metadata": {}
        }
      ],
      "execution_count": 6,
      "metadata": {
        "collapsed": false,
        "jupyter": {
          "outputs_hidden": false,
          "source_hidden": false
        },
        "nteract": {
          "transient": {
            "deleting": false
          }
        }
      }
    },
    {
      "cell_type": "code",
      "source": [
        "#Random data link\n",
        "url = \"https://raw.githubusercontent.com/mwaskom/seaborn-data/master/diamonds.csv\"\n"
      ],
      "outputs": [],
      "execution_count": 7,
      "metadata": {
        "collapsed": false,
        "jupyter": {
          "outputs_hidden": false,
          "source_hidden": false
        },
        "nteract": {
          "transient": {
            "deleting": false
          }
        }
      }
    },
    {
      "cell_type": "markdown",
      "source": [
        "# Bullet Activities\n",
        "## Activity 1\n",
        "Write a code to read the dataset from above and modify the default columns values and print the first 6 rows, then print just a single column from the dataset without using a for loop."
      ],
      "metadata": {
        "nteract": {
          "transient": {
            "deleting": false
          }
        }
      }
    },
    {
      "cell_type": "markdown",
      "source": [
        "## Activity 2\n",
        "Rename all of the columns in the dataset (to anything) and organize them in alphabetical order "
      ],
      "metadata": {
        "nteract": {
          "transient": {
            "deleting": false
          }
        }
      }
    },
    {
      "cell_type": "code",
      "source": [],
      "outputs": [],
      "execution_count": null,
      "metadata": {
        "collapsed": false,
        "jupyter": {
          "outputs_hidden": false,
          "source_hidden": false
        },
        "nteract": {
          "transient": {
            "deleting": false
          }
        }
      }
    },
    {
      "cell_type": "markdown",
      "source": [
        "## Activity 3\n",
        "\n",
        "Plot the price vs depth (i.e. price(depth)) without assigning those columns to variables (slice the dataframe in your plotting statement). Comment on the correlation between depth and price (does depth alone account for various prices?) "
      ],
      "metadata": {}
    },
    {
      "cell_type": "code",
      "source": [],
      "outputs": [],
      "execution_count": null,
      "metadata": {}
    }
  ],
  "metadata": {
    "kernel_info": {
      "name": "python3"
    },
    "kernelspec": {
      "display_name": "Python 3",
      "language": "python",
      "name": "python3"
    },
    "language_info": {
      "codemirror_mode": {
        "name": "ipython",
        "version": 3
      },
      "file_extension": ".py",
      "mimetype": "text/x-python",
      "name": "python",
      "nbconvert_exporter": "python",
      "pygments_lexer": "ipython3",
      "version": "3.7.6"
    },
    "nteract": {
      "version": "0.21.0"
    }
  },
  "nbformat": 4,
  "nbformat_minor": 4
}