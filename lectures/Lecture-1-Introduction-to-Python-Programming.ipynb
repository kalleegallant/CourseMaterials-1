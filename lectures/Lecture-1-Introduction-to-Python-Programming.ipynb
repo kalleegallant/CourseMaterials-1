{
  "cells": [
    {
      "cell_type": "markdown",
      "source": [
        "# Introduction to Python via Jupyter Notebooks"
      ],
      "metadata": {}
    },
    {
      "cell_type": "markdown",
      "source": [
        "Paul Nakroshis (pauln at maine dot edu)\n",
        "\n",
        "*Acknowledgement*: This notebook started with a python2 notebook\n",
        "written by J.R. Johansson (jrjohansson at gmail.com), and I have \n",
        "modified and updated it to work with python 3.6+.\n",
        "\n",
        "The latest version of this [Jupyter notebook](http://jupyter.org) \n",
        "lecture is available at (https://github.com/physics261/CourseMaterials/tree/master/lectures)"
      ],
      "metadata": {}
    },
    {
      "cell_type": "markdown",
      "source": [
        "## Jupyter notebooks"
      ],
      "metadata": {}
    },
    {
      "cell_type": "markdown",
      "source": [
        "This file - a Jupyter notebook -  does not follow the standard pattern with Python code in a text file. Instead, a Jupyter notebook is stored as a file in the [JSON](http://en.wikipedia.org/wiki/JSON) format. The advantage is that we can mix formatted text, Python code and code output. It requires the Jupyter notebook server to run it though, and therefore isn't a stand-alone Python program. Other than that, there is no difference between the Python code that goes into a program file or an Jupyter notebook."
      ],
      "metadata": {}
    },
    {
      "cell_type": "markdown",
      "source": [
        "## Python as a calculator\n",
        "Python is one of the most popular languages, and for good reason---the syntax for getting things done is relatively straightforward. For instance, you can easily do simple numerical calculations:"
      ],
      "metadata": {}
    },
    {
      "cell_type": "code",
      "source": [
        "5 * 7 "
      ],
      "outputs": [
        {
          "output_type": "execute_result",
          "execution_count": 1,
          "data": {
            "text/plain": [
              "35"
            ]
          },
          "metadata": {}
        }
      ],
      "execution_count": 1,
      "metadata": {
        "ExecuteTime": {
          "end_time": "2020-01-22T13:58:49.740248Z",
          "start_time": "2020-01-22T13:58:49.733494Z"
        }
      }
    },
    {
      "cell_type": "code",
      "source": [
        "(5.4e2 + 4.6e2)*8 "
      ],
      "outputs": [
        {
          "output_type": "execute_result",
          "execution_count": 2,
          "data": {
            "text/plain": [
              "8000.0"
            ]
          },
          "metadata": {}
        }
      ],
      "execution_count": 2,
      "metadata": {
        "ExecuteTime": {
          "end_time": "2020-01-22T13:58:49.744928Z",
          "start_time": "2020-01-22T13:58:49.741931Z"
        }
      }
    },
    {
      "cell_type": "code",
      "source": [
        "a = 4.0\n",
        "b = 6.0 \n",
        "c = a * b\n",
        "print(c)"
      ],
      "outputs": [
        {
          "output_type": "stream",
          "name": "stdout",
          "text": [
            "24.0\n"
          ]
        }
      ],
      "execution_count": 3,
      "metadata": {
        "ExecuteTime": {
          "end_time": "2020-01-22T13:58:49.749359Z",
          "start_time": "2020-01-22T13:58:49.746797Z"
        }
      }
    },
    {
      "cell_type": "markdown",
      "source": [
        "## Modules"
      ],
      "metadata": {}
    },
    {
      "cell_type": "markdown",
      "source": [
        "Most of the functionality in Python is provided by *modules*. The Python Standard Library is a large collection of modules that provides *cross-platform* implementations of common facilities such as access to the operating system, file I/O, string management, network communication, and much more. functions from the math library. "
      ],
      "metadata": {}
    },
    {
      "cell_type": "markdown",
      "source": [
        "### References"
      ],
      "metadata": {}
    },
    {
      "cell_type": "markdown",
      "source": [
        " * The Python Language Reference: http://docs.python.org/3/reference/index.html\n",
        " * The Python Standard Library: http://docs.python.org/3/library/\n",
        "\n",
        "To use a module in a Python program it first has to be imported. A module can be imported using the `import` statement. If you want to do more compicated operations than simple arithmatic, then you'll have to import functions from (for example) the math library. To import the module `math`, which contains many standard mathematical functions, we can do:"
      ],
      "metadata": {}
    },
    {
      "cell_type": "code",
      "source": [
        "import math"
      ],
      "outputs": [],
      "execution_count": 4,
      "metadata": {
        "ExecuteTime": {
          "end_time": "2020-01-22T13:58:49.753047Z",
          "start_time": "2020-01-22T13:58:49.751030Z"
        }
      }
    },
    {
      "cell_type": "markdown",
      "source": [
        "This includes the whole module and makes it available for use later in the program. For example, we can do:"
      ],
      "metadata": {}
    },
    {
      "cell_type": "code",
      "source": [
        "import math\n",
        "\n",
        "x = math.cos(2 * math.pi)\n",
        "\n",
        "print(x)"
      ],
      "outputs": [
        {
          "output_type": "stream",
          "name": "stdout",
          "text": [
            "1.0\n"
          ]
        }
      ],
      "execution_count": 5,
      "metadata": {
        "ExecuteTime": {
          "end_time": "2020-01-22T13:58:49.757018Z",
          "start_time": "2020-01-22T13:58:49.754507Z"
        }
      }
    },
    {
      "cell_type": "markdown",
      "source": [
        "Alternatively, we can chose to import all symbols (functions and variables) in a module to the current namespace (so that we don't need to use the prefix \"`math.`\" every time we use something from the `math` module:"
      ],
      "metadata": {}
    },
    {
      "cell_type": "code",
      "source": [
        "from math import *\n",
        "\n",
        "x = cos(2 * pi)\n",
        "\n",
        "print(x)"
      ],
      "outputs": [
        {
          "output_type": "stream",
          "name": "stdout",
          "text": [
            "1.0\n"
          ]
        }
      ],
      "execution_count": 6,
      "metadata": {
        "ExecuteTime": {
          "end_time": "2020-01-22T13:58:49.760886Z",
          "start_time": "2020-01-22T13:58:49.758325Z"
        }
      }
    },
    {
      "cell_type": "markdown",
      "source": [
        "This pattern can be very convenient, but in large programs that include many modules it is often a good idea to keep the symbols from each module in their own namespaces, by using the `import math` pattern. This would elminate potentially confusing problems with name space collisions. For this reason, I discourage you from using this method.\n",
        "\n",
        "As a third alternative, we can chose to import only a few selected symbols from a module by explicitly listing which ones we want to import instead of using the wildcard character `*`:"
      ],
      "metadata": {}
    },
    {
      "cell_type": "code",
      "source": [
        "from math import cos, pi\n",
        "\n",
        "x = cos(2 * pi)\n",
        "\n",
        "print(x)"
      ],
      "outputs": [
        {
          "output_type": "stream",
          "name": "stdout",
          "text": [
            "1.0\n"
          ]
        }
      ],
      "execution_count": 7,
      "metadata": {
        "ExecuteTime": {
          "end_time": "2020-01-22T13:58:49.764848Z",
          "start_time": "2020-01-22T13:58:49.762271Z"
        }
      }
    },
    {
      "cell_type": "markdown",
      "source": [
        "### Looking at what a module contains, and its documentation"
      ],
      "metadata": {}
    },
    {
      "cell_type": "markdown",
      "source": [
        "Once a module is imported, we can list the symbols it provides using the `dir` function:"
      ],
      "metadata": {}
    },
    {
      "cell_type": "code",
      "source": [
        "import math\n",
        "\n",
        "print(dir(math))"
      ],
      "outputs": [
        {
          "output_type": "stream",
          "name": "stdout",
          "text": [
            "['__doc__', '__file__', '__loader__', '__name__', '__package__', '__spec__', 'acos', 'acosh', 'asin', 'asinh', 'atan', 'atan2', 'atanh', 'ceil', 'copysign', 'cos', 'cosh', 'degrees', 'e', 'erf', 'erfc', 'exp', 'expm1', 'fabs', 'factorial', 'floor', 'fmod', 'frexp', 'fsum', 'gamma', 'gcd', 'hypot', 'inf', 'isclose', 'isfinite', 'isinf', 'isnan', 'ldexp', 'lgamma', 'log', 'log10', 'log1p', 'log2', 'modf', 'nan', 'pi', 'pow', 'radians', 'remainder', 'sin', 'sinh', 'sqrt', 'tan', 'tanh', 'tau', 'trunc']\n"
          ]
        }
      ],
      "execution_count": 8,
      "metadata": {
        "ExecuteTime": {
          "end_time": "2020-01-22T13:58:49.769813Z",
          "start_time": "2020-01-22T13:58:49.767533Z"
        }
      }
    },
    {
      "cell_type": "markdown",
      "source": [
        "And using the function `help` we can get a description of each function (almost .. not all functions have docstrings, as they are technically called, but the vast majority of functions are documented this way). "
      ],
      "metadata": {}
    },
    {
      "cell_type": "code",
      "source": [
        "help(math.log)"
      ],
      "outputs": [
        {
          "output_type": "stream",
          "name": "stdout",
          "text": [
            "Help on built-in function log in module math:\n",
            "\n",
            "log(...)\n",
            "    log(x, [base=math.e])\n",
            "    Return the logarithm of x to the given base.\n",
            "    \n",
            "    If the base not specified, returns the natural logarithm (base e) of x.\n",
            "\n"
          ]
        }
      ],
      "execution_count": 9,
      "metadata": {
        "ExecuteTime": {
          "end_time": "2020-01-22T13:58:49.774765Z",
          "start_time": "2020-01-22T13:58:49.772051Z"
        }
      }
    },
    {
      "cell_type": "code",
      "source": [
        "log(10)"
      ],
      "outputs": [
        {
          "output_type": "execute_result",
          "execution_count": 10,
          "data": {
            "text/plain": [
              "2.302585092994046"
            ]
          },
          "metadata": {}
        }
      ],
      "execution_count": 10,
      "metadata": {
        "ExecuteTime": {
          "end_time": "2020-01-22T13:58:49.779257Z",
          "start_time": "2020-01-22T13:58:49.776244Z"
        }
      }
    },
    {
      "cell_type": "code",
      "source": [
        "log(10, 2)"
      ],
      "outputs": [
        {
          "output_type": "execute_result",
          "execution_count": 11,
          "data": {
            "text/plain": [
              "3.3219280948873626"
            ]
          },
          "metadata": {}
        }
      ],
      "execution_count": 11,
      "metadata": {
        "ExecuteTime": {
          "end_time": "2020-01-22T13:58:49.783523Z",
          "start_time": "2020-01-22T13:58:49.780625Z"
        }
      }
    },
    {
      "cell_type": "markdown",
      "source": [
        "We can also use the `help` function directly on modules: Try\n",
        "\n",
        "    help(math) \n",
        "\n",
        "Some very useful modules form the Python standard library are `os`, `sys`, `math`, `shutil`, `re`, `subprocess`, `multiprocessing`, `threading`. \n",
        "A complete lists of standard modules Python 3 are available at http://docs.python.org/3/library/.\n",
        "One module we will use throughout the semester is the numerical python library (known as numPy: https://numpy.org). You can access a tutorial at https://numpy.org/devdocs/user/quickstart.html, but I will show you a quick use of numpy along with the plotting library (known as Matplotlib: https://matplotlib.org)\n",
        "which will allow us to make plots in a straightforward manner.\n"
      ],
      "metadata": {}
    },
    {
      "cell_type": "code",
      "source": [
        "%matplotlib inline\n",
        "import numpy as np\n",
        "import matplotlib.pyplot as plt\n",
        "\n",
        "x = np.array([1,2,3,4,5,6,7,8,9])\n",
        "y = x**2\n",
        "plt.plot(x,y,'-o')\n",
        "plt.xlabel('x (meters)')\n",
        "plt.ylabel(r'$y (m^2)$',fontsize=18)\n",
        "plt.show()\n"
      ],
      "outputs": [
        {
          "output_type": "display_data",
          "data": {
            "image/png": "[encoded data removed]",
            "text/plain": [
              "<Figure size 432x288 with 1 Axes>"
            ]
          },
          "metadata": {
            "needs_background": "light"
          }
        }
      ],
      "execution_count": 12,
      "metadata": {
        "ExecuteTime": {
          "end_time": "2020-01-22T13:58:50.362414Z",
          "start_time": "2020-01-22T13:58:49.784983Z"
        }
      }
    },
    {
      "cell_type": "code",
      "source": [
        "from matplotlib import rc\n",
        "rc('font',**{'family':'serif','serif':['Times']})\n",
        "rc('text', usetex=True)"
      ],
      "outputs": [],
      "execution_count": 13,
      "metadata": {
        "ExecuteTime": {
          "end_time": "2020-01-22T13:58:50.366258Z",
          "start_time": "2020-01-22T13:58:50.363872Z"
        }
      }
    },
    {
      "cell_type": "code",
      "source": [
        "x = np.array([1,2,3,4,5,6,7,8,9])\n",
        "y = x**2\n",
        "plt.close()\n",
        "plt.plot(x,y,'-o')\n",
        "plt.xlabel('x (meters)')\n",
        "plt.ylabel(r'$y (m^2)$',fontsize=18)\n",
        "plt.show()"
      ],
      "outputs": [
        {
          "output_type": "display_data",
          "data": {
            "image/png": "[encoded data removed]",
            "text/plain": [
              "<Figure size 432x288 with 1 Axes>"
            ]
          },
          "metadata": {
            "needs_background": "light"
          }
        }
      ],
      "execution_count": 14,
      "metadata": {
        "ExecuteTime": {
          "end_time": "2020-01-22T13:58:52.726140Z",
          "start_time": "2020-01-22T13:58:50.367600Z"
        }
      }
    },
    {
      "cell_type": "markdown",
      "source": [
        "## Variables and types\n",
        "### Symbol names \n",
        "Variable names in Python can contain alphanumerical characters `a-z`, `A-Z`, `0-9` and some special characters such as `_`. Normal variable names must start with a letter. \n",
        "\n",
        "By convention, variable names start with a lower-case letter, and Class names start with a capital letter. \n",
        "\n",
        "In addition, there are a number of Python keywords that cannot be used as variable names. These keywords are:\n",
        "\n",
        "    and, as, assert, break, class, continue, def, del, elif, else, except, \n",
        "    exec, finally, for, from, global, if, import, in, is, lambda, not, or,\n",
        "    pass, print, raise, return, try, while, with, yield\n",
        "\n",
        "Note: Be aware of the keyword `lambda`, which could easily be a natural variable name in a scientific program. But being a keyword, it cannot be used as a variable name.\n",
        "\n",
        "### Assignment\n",
        "The assignment operator in Python is `=`. Python is a dynamically typed language, so we do not need to specify the type of a variable when we create one.\n",
        "\n",
        "Assigning a value to a new variable creates the variable:"
      ],
      "metadata": {}
    },
    {
      "cell_type": "code",
      "source": [
        "# variable assignments\n",
        "x = 1.0\n",
        "my_variable = 12.2"
      ],
      "outputs": [],
      "execution_count": 15,
      "metadata": {
        "ExecuteTime": {
          "end_time": "2020-01-22T13:58:52.729857Z",
          "start_time": "2020-01-22T13:58:52.727698Z"
        }
      }
    },
    {
      "cell_type": "markdown",
      "source": [
        "Although not explicitly specified, a variable does have a type associated with it. The type is derived from the value that was assigned to it."
      ],
      "metadata": {}
    },
    {
      "cell_type": "code",
      "source": [
        "type(x)"
      ],
      "outputs": [
        {
          "output_type": "execute_result",
          "execution_count": 16,
          "data": {
            "text/plain": [
              "float"
            ]
          },
          "metadata": {}
        }
      ],
      "execution_count": 16,
      "metadata": {
        "ExecuteTime": {
          "end_time": "2020-01-22T13:58:52.734108Z",
          "start_time": "2020-01-22T13:58:52.731241Z"
        }
      }
    },
    {
      "cell_type": "markdown",
      "source": [
        "If we assign a new value to a variable, its type can change."
      ],
      "metadata": {}
    },
    {
      "cell_type": "code",
      "source": [
        "x = 1"
      ],
      "outputs": [],
      "execution_count": 17,
      "metadata": {
        "ExecuteTime": {
          "end_time": "2020-01-22T13:58:52.737563Z",
          "start_time": "2020-01-22T13:58:52.735469Z"
        }
      }
    },
    {
      "cell_type": "code",
      "source": [
        "type(x)"
      ],
      "outputs": [
        {
          "output_type": "execute_result",
          "execution_count": 18,
          "data": {
            "text/plain": [
              "int"
            ]
          },
          "metadata": {}
        }
      ],
      "execution_count": 18,
      "metadata": {
        "ExecuteTime": {
          "end_time": "2020-01-22T13:58:52.741941Z",
          "start_time": "2020-01-22T13:58:52.738887Z"
        }
      }
    },
    {
      "cell_type": "markdown",
      "source": [
        "If we try to use a variable that has not yet been defined we get an `NameError`:"
      ],
      "metadata": {}
    },
    {
      "cell_type": "code",
      "source": [
        "print(y)"
      ],
      "outputs": [
        {
          "output_type": "stream",
          "name": "stdout",
          "text": [
            "[ 1  4  9 16 25 36 49 64 81]\n"
          ]
        }
      ],
      "execution_count": 19,
      "metadata": {
        "ExecuteTime": {
          "end_time": "2020-01-22T13:58:52.745710Z",
          "start_time": "2020-01-22T13:58:52.743265Z"
        }
      }
    },
    {
      "cell_type": "markdown",
      "source": [
        "### Fundamental types"
      ],
      "metadata": {}
    },
    {
      "cell_type": "code",
      "source": [
        "# integers\n",
        "x = 1\n",
        "type(x)"
      ],
      "outputs": [
        {
          "output_type": "execute_result",
          "execution_count": 20,
          "data": {
            "text/plain": [
              "int"
            ]
          },
          "metadata": {}
        }
      ],
      "execution_count": 20,
      "metadata": {
        "ExecuteTime": {
          "end_time": "2020-01-22T13:58:52.749916Z",
          "start_time": "2020-01-22T13:58:52.747171Z"
        }
      }
    },
    {
      "cell_type": "code",
      "source": [
        "# float\n",
        "x = 1.0\n",
        "type(x)"
      ],
      "outputs": [
        {
          "output_type": "execute_result",
          "execution_count": 21,
          "data": {
            "text/plain": [
              "float"
            ]
          },
          "metadata": {}
        }
      ],
      "execution_count": 21,
      "metadata": {
        "ExecuteTime": {
          "end_time": "2020-01-22T13:58:52.754097Z",
          "start_time": "2020-01-22T13:58:52.751331Z"
        }
      }
    },
    {
      "cell_type": "code",
      "source": [
        "# boolean\n",
        "b1 = True\n",
        "b2 = False\n",
        "\n",
        "type(b1)"
      ],
      "outputs": [
        {
          "output_type": "execute_result",
          "execution_count": 22,
          "data": {
            "text/plain": [
              "bool"
            ]
          },
          "metadata": {}
        }
      ],
      "execution_count": 22,
      "metadata": {
        "ExecuteTime": {
          "end_time": "2020-01-22T13:58:52.758600Z",
          "start_time": "2020-01-22T13:58:52.755432Z"
        }
      }
    },
    {
      "cell_type": "code",
      "source": [
        "# complex numbers: note the use of `j` to specify the imaginary part\n",
        "x = 1.0 - 1.0j\n",
        "type(x)"
      ],
      "outputs": [
        {
          "output_type": "execute_result",
          "execution_count": 23,
          "data": {
            "text/plain": [
              "complex"
            ]
          },
          "metadata": {}
        }
      ],
      "execution_count": 23,
      "metadata": {
        "ExecuteTime": {
          "end_time": "2020-01-22T13:58:52.766586Z",
          "start_time": "2020-01-22T13:58:52.763670Z"
        }
      }
    },
    {
      "cell_type": "code",
      "source": [
        "print(x)"
      ],
      "outputs": [
        {
          "output_type": "stream",
          "name": "stdout",
          "text": [
            "(1-1j)\n"
          ]
        }
      ],
      "execution_count": 24,
      "metadata": {
        "ExecuteTime": {
          "end_time": "2020-01-22T13:58:52.772205Z",
          "start_time": "2020-01-22T13:58:52.769918Z"
        }
      }
    },
    {
      "cell_type": "code",
      "source": [
        "print(x.real, x.imag)"
      ],
      "outputs": [
        {
          "output_type": "stream",
          "name": "stdout",
          "text": [
            "1.0 -1.0\n"
          ]
        }
      ],
      "execution_count": 25,
      "metadata": {
        "ExecuteTime": {
          "end_time": "2020-01-22T13:58:52.776035Z",
          "start_time": "2020-01-22T13:58:52.773587Z"
        }
      }
    },
    {
      "cell_type": "markdown",
      "source": [
        "### Type utility functions"
      ],
      "metadata": {}
    },
    {
      "cell_type": "markdown",
      "source": [
        "\n",
        "The module `types` contains a number of type name definitions that can be used to test if variables are of certain types:"
      ],
      "metadata": {}
    },
    {
      "cell_type": "code",
      "source": [
        "import types\n",
        "\n",
        "# print all types defined in the `types` module\n",
        "print(dir(types))"
      ],
      "outputs": [
        {
          "output_type": "stream",
          "name": "stdout",
          "text": [
            "['AsyncGeneratorType', 'BuiltinFunctionType', 'BuiltinMethodType', 'ClassMethodDescriptorType', 'CodeType', 'CoroutineType', 'DynamicClassAttribute', 'FrameType', 'FunctionType', 'GeneratorType', 'GetSetDescriptorType', 'LambdaType', 'MappingProxyType', 'MemberDescriptorType', 'MethodDescriptorType', 'MethodType', 'MethodWrapperType', 'ModuleType', 'SimpleNamespace', 'TracebackType', 'WrapperDescriptorType', '_GeneratorWrapper', '__all__', '__builtins__', '__cached__', '__doc__', '__file__', '__loader__', '__name__', '__package__', '__spec__', '_calculate_meta', 'coroutine', 'new_class', 'prepare_class', 'resolve_bases']\n"
          ]
        }
      ],
      "execution_count": 26,
      "metadata": {
        "ExecuteTime": {
          "end_time": "2020-01-22T13:58:52.779572Z",
          "start_time": "2020-01-22T13:58:52.777371Z"
        }
      }
    },
    {
      "cell_type": "code",
      "source": [
        "x = 1.0\n",
        "\n",
        "# check if the variable x is a float\n",
        "type(x) is float"
      ],
      "outputs": [
        {
          "output_type": "execute_result",
          "execution_count": 27,
          "data": {
            "text/plain": [
              "True"
            ]
          },
          "metadata": {}
        }
      ],
      "execution_count": 27,
      "metadata": {
        "ExecuteTime": {
          "end_time": "2020-01-22T13:58:52.783727Z",
          "start_time": "2020-01-22T13:58:52.780828Z"
        }
      }
    },
    {
      "cell_type": "code",
      "source": [
        "# check if the variable x is an int\n",
        "type(x) is int"
      ],
      "outputs": [
        {
          "output_type": "execute_result",
          "execution_count": 28,
          "data": {
            "text/plain": [
              "False"
            ]
          },
          "metadata": {}
        }
      ],
      "execution_count": 28,
      "metadata": {
        "ExecuteTime": {
          "end_time": "2020-01-22T13:58:52.787874Z",
          "start_time": "2020-01-22T13:58:52.785039Z"
        }
      }
    },
    {
      "cell_type": "markdown",
      "source": [
        "We can also use the `isinstance` method for testing types of variables:"
      ],
      "metadata": {}
    },
    {
      "cell_type": "code",
      "source": [
        "isinstance(x, float)"
      ],
      "outputs": [
        {
          "output_type": "execute_result",
          "execution_count": 29,
          "data": {
            "text/plain": [
              "True"
            ]
          },
          "metadata": {}
        }
      ],
      "execution_count": 29,
      "metadata": {
        "ExecuteTime": {
          "end_time": "2020-01-22T13:58:52.792241Z",
          "start_time": "2020-01-22T13:58:52.789303Z"
        }
      }
    },
    {
      "cell_type": "markdown",
      "source": [
        "### Type casting"
      ],
      "metadata": {}
    },
    {
      "cell_type": "code",
      "source": [
        "x = 1.5\n",
        "\n",
        "print(x, type(x))"
      ],
      "outputs": [
        {
          "output_type": "stream",
          "name": "stdout",
          "text": [
            "1.5 <class 'float'>\n"
          ]
        }
      ],
      "execution_count": 30,
      "metadata": {
        "ExecuteTime": {
          "end_time": "2020-01-22T13:58:52.796007Z",
          "start_time": "2020-01-22T13:58:52.793639Z"
        }
      }
    },
    {
      "cell_type": "code",
      "source": [
        "x = int(x)\n",
        "\n",
        "print(x, type(x))"
      ],
      "outputs": [
        {
          "output_type": "stream",
          "name": "stdout",
          "text": [
            "1 <class 'int'>\n"
          ]
        }
      ],
      "execution_count": 31,
      "metadata": {
        "ExecuteTime": {
          "end_time": "2020-01-22T13:58:52.799761Z",
          "start_time": "2020-01-22T13:58:52.797457Z"
        }
      }
    },
    {
      "cell_type": "code",
      "source": [
        "z = complex(x)\n",
        "\n",
        "print(z, type(z))"
      ],
      "outputs": [
        {
          "output_type": "stream",
          "name": "stdout",
          "text": [
            "(1+0j) <class 'complex'>\n"
          ]
        }
      ],
      "execution_count": 32,
      "metadata": {
        "ExecuteTime": {
          "end_time": "2020-01-22T13:58:52.803497Z",
          "start_time": "2020-01-22T13:58:52.801140Z"
        }
      }
    },
    {
      "cell_type": "code",
      "source": [
        "x = float(z)"
      ],
      "outputs": [
        {
          "output_type": "error",
          "ename": "TypeError",
          "evalue": "can't convert complex to float",
          "traceback": [
            "\u001b[0;31m---------------------------------------------------------------------------\u001b[0m",
            "\u001b[0;31mTypeError\u001b[0m                                 Traceback (most recent call last)",
            "\u001b[0;32m<ipython-input-33-19c840f40bd8>\u001b[0m in \u001b[0;36m<module>\u001b[0;34m\u001b[0m\n\u001b[0;32m----> 1\u001b[0;31m \u001b[0mx\u001b[0m \u001b[0;34m=\u001b[0m \u001b[0mfloat\u001b[0m\u001b[0;34m(\u001b[0m\u001b[0mz\u001b[0m\u001b[0;34m)\u001b[0m\u001b[0;34m\u001b[0m\u001b[0;34m\u001b[0m\u001b[0m\n\u001b[0m",
            "\u001b[0;31mTypeError\u001b[0m: can't convert complex to float"
          ]
        }
      ],
      "execution_count": 33,
      "metadata": {
        "ExecuteTime": {
          "end_time": "2020-01-22T13:58:52.877544Z",
          "start_time": "2020-01-22T13:58:52.804846Z"
        }
      }
    },
    {
      "cell_type": "markdown",
      "source": [
        "Complex variables cannot be cast to floats or integers. We need to use `z.real` or `z.imag` to extract the part of the complex number we want:"
      ],
      "metadata": {}
    },
    {
      "cell_type": "code",
      "source": [
        "y = bool(z.real)\n",
        "\n",
        "print(z.real, \" -> \", y, type(y))\n",
        "\n",
        "y = bool(z.imag)\n",
        "\n",
        "print(z.imag, \" -> \", y, type(y))"
      ],
      "outputs": [
        {
          "output_type": "stream",
          "name": "stdout",
          "text": [
            "1.0  ->  True <class 'bool'>\n",
            "0.0  ->  False <class 'bool'>\n"
          ]
        }
      ],
      "execution_count": 34,
      "metadata": {
        "ExecuteTime": {
          "end_time": "2020-01-22T13:59:29.133513Z",
          "start_time": "2020-01-22T13:59:29.129941Z"
        }
      }
    },
    {
      "cell_type": "markdown",
      "source": [
        "## Operators and comparisons"
      ],
      "metadata": {}
    },
    {
      "cell_type": "markdown",
      "source": [
        "Most operators and comparisons in Python work as one would expect:\n",
        "\n",
        "* Arithmetic operators `+`, `-`, `*`, `/`, `//` (integer division), '**' power\n"
      ],
      "metadata": {}
    },
    {
      "cell_type": "code",
      "source": [
        "1 + 2, 1 - 2, 1 * 2, 1 / 2"
      ],
      "outputs": [
        {
          "output_type": "execute_result",
          "execution_count": 35,
          "data": {
            "text/plain": [
              "(3, -1, 2, 0.5)"
            ]
          },
          "metadata": {}
        }
      ],
      "execution_count": 35,
      "metadata": {
        "ExecuteTime": {
          "end_time": "2020-01-22T13:59:31.308614Z",
          "start_time": "2020-01-22T13:59:31.305190Z"
        }
      }
    },
    {
      "cell_type": "code",
      "source": [
        "1.0 + 2.0, 1.0 - 2.0, 1.0 * 2.0, 1.0 / 2.0"
      ],
      "outputs": [
        {
          "output_type": "execute_result",
          "execution_count": 36,
          "data": {
            "text/plain": [
              "(3.0, -1.0, 2.0, 0.5)"
            ]
          },
          "metadata": {}
        }
      ],
      "execution_count": 36,
      "metadata": {
        "ExecuteTime": {
          "end_time": "2020-01-22T13:59:31.821128Z",
          "start_time": "2020-01-22T13:59:31.817739Z"
        }
      }
    },
    {
      "cell_type": "code",
      "source": [
        "# Integer division of float numbers\n",
        "3.0 // 2.0"
      ],
      "outputs": [
        {
          "output_type": "execute_result",
          "execution_count": 37,
          "data": {
            "text/plain": [
              "1.0"
            ]
          },
          "metadata": {}
        }
      ],
      "execution_count": 37,
      "metadata": {
        "ExecuteTime": {
          "end_time": "2020-01-22T13:59:32.180647Z",
          "start_time": "2020-01-22T13:59:32.177751Z"
        }
      }
    },
    {
      "cell_type": "code",
      "source": [
        "# Note! The power operators in python isn't ^, but **\n",
        "2 ** 2"
      ],
      "outputs": [
        {
          "output_type": "execute_result",
          "execution_count": 38,
          "data": {
            "text/plain": [
              "4"
            ]
          },
          "metadata": {}
        }
      ],
      "execution_count": 38,
      "metadata": {
        "ExecuteTime": {
          "end_time": "2020-01-22T13:59:32.444636Z",
          "start_time": "2020-01-22T13:59:32.441553Z"
        }
      }
    },
    {
      "cell_type": "markdown",
      "source": [
        "Note: The `/` operator always performs a floating point division in Python 3.x.\n",
        "This is not true in Python 2.x, where the result of `/` is always an integer if the operands are integers.\n",
        "to be more specific, `1/2 = 0.5` (`float`) in Python 3.x, and `1/2 = 0` (`int`) in Python 2.x (but `1.0/2 = 0.5` in Python 2.x)."
      ],
      "metadata": {}
    },
    {
      "cell_type": "markdown",
      "source": [
        "* The boolean operators are spelled out as the words `and`, `not`, `or`. "
      ],
      "metadata": {}
    },
    {
      "cell_type": "code",
      "source": [
        "True and False"
      ],
      "outputs": [
        {
          "output_type": "execute_result",
          "execution_count": 39,
          "data": {
            "text/plain": [
              "False"
            ]
          },
          "metadata": {}
        }
      ],
      "execution_count": 39,
      "metadata": {
        "ExecuteTime": {
          "end_time": "2020-01-22T13:59:33.324544Z",
          "start_time": "2020-01-22T13:59:33.321246Z"
        }
      }
    },
    {
      "cell_type": "code",
      "source": [
        "not False"
      ],
      "outputs": [
        {
          "output_type": "execute_result",
          "execution_count": 40,
          "data": {
            "text/plain": [
              "True"
            ]
          },
          "metadata": {}
        }
      ],
      "execution_count": 40,
      "metadata": {
        "ExecuteTime": {
          "end_time": "2020-01-22T13:59:33.612610Z",
          "start_time": "2020-01-22T13:59:33.609566Z"
        }
      }
    },
    {
      "cell_type": "code",
      "source": [
        "True or False"
      ],
      "outputs": [
        {
          "output_type": "execute_result",
          "execution_count": 41,
          "data": {
            "text/plain": [
              "True"
            ]
          },
          "metadata": {}
        }
      ],
      "execution_count": 41,
      "metadata": {
        "ExecuteTime": {
          "end_time": "2020-01-22T13:59:33.852919Z",
          "start_time": "2020-01-22T13:59:33.849623Z"
        }
      }
    },
    {
      "cell_type": "markdown",
      "source": [
        "* Comparison operators `>`, `<`, `>=` (greater or equal), `<=` (less or equal), `==` equality, `is` identical."
      ],
      "metadata": {}
    },
    {
      "cell_type": "code",
      "source": [
        "2 > 1, 2 < 1"
      ],
      "outputs": [
        {
          "output_type": "execute_result",
          "execution_count": 42,
          "data": {
            "text/plain": [
              "(True, False)"
            ]
          },
          "metadata": {}
        }
      ],
      "execution_count": 42,
      "metadata": {
        "ExecuteTime": {
          "end_time": "2020-01-22T13:59:34.396012Z",
          "start_time": "2020-01-22T13:59:34.392958Z"
        }
      }
    },
    {
      "cell_type": "code",
      "source": [
        "2 > 2, 2 < 2"
      ],
      "outputs": [
        {
          "output_type": "execute_result",
          "execution_count": 43,
          "data": {
            "text/plain": [
              "(False, False)"
            ]
          },
          "metadata": {}
        }
      ],
      "execution_count": 43,
      "metadata": {
        "ExecuteTime": {
          "end_time": "2020-01-22T13:59:34.636829Z",
          "start_time": "2020-01-22T13:59:34.633664Z"
        }
      }
    },
    {
      "cell_type": "code",
      "source": [
        "2 >= 2, 2 <= 2"
      ],
      "outputs": [
        {
          "output_type": "execute_result",
          "execution_count": 44,
          "data": {
            "text/plain": [
              "(True, True)"
            ]
          },
          "metadata": {}
        }
      ],
      "execution_count": 44,
      "metadata": {
        "ExecuteTime": {
          "end_time": "2020-01-22T13:59:34.900352Z",
          "start_time": "2020-01-22T13:59:34.897355Z"
        }
      }
    },
    {
      "cell_type": "code",
      "source": [
        "# equality\n",
        "[1,2] == [1,2]"
      ],
      "outputs": [
        {
          "output_type": "execute_result",
          "execution_count": 45,
          "data": {
            "text/plain": [
              "True"
            ]
          },
          "metadata": {}
        }
      ],
      "execution_count": 45,
      "metadata": {
        "ExecuteTime": {
          "end_time": "2020-01-22T13:59:35.100940Z",
          "start_time": "2020-01-22T13:59:35.097587Z"
        }
      }
    },
    {
      "cell_type": "code",
      "source": [
        "# objects identical?\n",
        "l1 = l2 = [1,2]\n",
        "\n",
        "l1 is l2"
      ],
      "outputs": [
        {
          "output_type": "execute_result",
          "execution_count": 46,
          "data": {
            "text/plain": [
              "True"
            ]
          },
          "metadata": {}
        }
      ],
      "execution_count": 46,
      "metadata": {
        "ExecuteTime": {
          "end_time": "2020-01-22T13:59:35.340084Z",
          "start_time": "2020-01-22T13:59:35.337175Z"
        }
      }
    },
    {
      "cell_type": "markdown",
      "source": [
        "## Compound types: Strings, List and dictionaries\n",
        "### Strings\n",
        "Strings are the variable type that is used for storing text messages. "
      ],
      "metadata": {}
    },
    {
      "cell_type": "code",
      "source": [
        "s = \"Hello world\"\n",
        "type(s)"
      ],
      "outputs": [
        {
          "output_type": "execute_result",
          "execution_count": 47,
          "data": {
            "text/plain": [
              "str"
            ]
          },
          "metadata": {}
        }
      ],
      "execution_count": 47,
      "metadata": {
        "ExecuteTime": {
          "end_time": "2020-01-22T13:59:35.788142Z",
          "start_time": "2020-01-22T13:59:35.785063Z"
        }
      }
    },
    {
      "cell_type": "code",
      "source": [
        "# length of the string: the number of characters\n",
        "len(s)"
      ],
      "outputs": [
        {
          "output_type": "execute_result",
          "execution_count": 48,
          "data": {
            "text/plain": [
              "11"
            ]
          },
          "metadata": {}
        }
      ],
      "execution_count": 48,
      "metadata": {
        "ExecuteTime": {
          "end_time": "2020-01-22T13:59:35.988506Z",
          "start_time": "2020-01-22T13:59:35.985265Z"
        }
      }
    },
    {
      "cell_type": "code",
      "source": [
        "# replace a substring in a string with something else\n",
        "s2 = s.replace(\"world\", \"test\")\n",
        "print(s2)"
      ],
      "outputs": [
        {
          "output_type": "stream",
          "name": "stdout",
          "text": [
            "Hello test\n"
          ]
        }
      ],
      "execution_count": 49,
      "metadata": {
        "ExecuteTime": {
          "end_time": "2020-01-22T13:59:36.267948Z",
          "start_time": "2020-01-22T13:59:36.265379Z"
        }
      }
    },
    {
      "cell_type": "markdown",
      "source": [
        "We can index a character in a string using `[]`:"
      ],
      "metadata": {}
    },
    {
      "cell_type": "code",
      "source": [
        "s[0]"
      ],
      "outputs": [
        {
          "output_type": "execute_result",
          "execution_count": 50,
          "data": {
            "text/plain": [
              "'H'"
            ]
          },
          "metadata": {}
        }
      ],
      "execution_count": 50,
      "metadata": {
        "ExecuteTime": {
          "end_time": "2020-01-22T13:59:36.693170Z",
          "start_time": "2020-01-22T13:59:36.690137Z"
        }
      }
    },
    {
      "cell_type": "markdown",
      "source": [
        "**Heads up MATLAB users:** Indexing start at 0!\n",
        "\n",
        "We can extract a part of a string using the syntax `[start:stop]`, which extracts characters between index `start` and `stop` -1 (the character at index `stop` is not included):"
      ],
      "metadata": {}
    },
    {
      "cell_type": "code",
      "source": [
        "s[0:5]"
      ],
      "outputs": [
        {
          "output_type": "execute_result",
          "execution_count": 51,
          "data": {
            "text/plain": [
              "'Hello'"
            ]
          },
          "metadata": {}
        }
      ],
      "execution_count": 51,
      "metadata": {
        "ExecuteTime": {
          "end_time": "2020-01-22T13:59:37.156246Z",
          "start_time": "2020-01-22T13:59:37.153162Z"
        }
      }
    },
    {
      "cell_type": "code",
      "source": [
        "s[4:5]"
      ],
      "outputs": [
        {
          "output_type": "execute_result",
          "execution_count": 52,
          "data": {
            "text/plain": [
              "'o'"
            ]
          },
          "metadata": {}
        }
      ],
      "execution_count": 52,
      "metadata": {
        "ExecuteTime": {
          "end_time": "2020-01-22T13:59:37.380216Z",
          "start_time": "2020-01-22T13:59:37.377082Z"
        }
      }
    },
    {
      "cell_type": "markdown",
      "source": [
        "If we omit either (or both) of `start` or `stop` from `[start:stop]`, the default is the beginning and the end of the string, respectively:"
      ],
      "metadata": {}
    },
    {
      "cell_type": "code",
      "source": [
        "s[:5]"
      ],
      "outputs": [
        {
          "output_type": "execute_result",
          "execution_count": 53,
          "data": {
            "text/plain": [
              "'Hello'"
            ]
          },
          "metadata": {}
        }
      ],
      "execution_count": 53,
      "metadata": {
        "ExecuteTime": {
          "end_time": "2020-01-22T13:59:37.860402Z",
          "start_time": "2020-01-22T13:59:37.857102Z"
        }
      }
    },
    {
      "cell_type": "code",
      "source": [
        "s[6:]"
      ],
      "outputs": [
        {
          "output_type": "execute_result",
          "execution_count": 54,
          "data": {
            "text/plain": [
              "'world'"
            ]
          },
          "metadata": {}
        }
      ],
      "execution_count": 54,
      "metadata": {
        "ExecuteTime": {
          "end_time": "2020-01-22T13:59:38.084326Z",
          "start_time": "2020-01-22T13:59:38.081326Z"
        }
      }
    },
    {
      "cell_type": "code",
      "source": [
        "s[:]"
      ],
      "outputs": [
        {
          "output_type": "execute_result",
          "execution_count": 55,
          "data": {
            "text/plain": [
              "'Hello world'"
            ]
          },
          "metadata": {}
        }
      ],
      "execution_count": 55,
      "metadata": {
        "ExecuteTime": {
          "end_time": "2020-01-22T13:59:38.300456Z",
          "start_time": "2020-01-22T13:59:38.297335Z"
        }
      }
    },
    {
      "cell_type": "markdown",
      "source": [
        "We can also define the step size using the syntax `[start:end:step]` (the default value for `step` is 1, as we saw above):"
      ],
      "metadata": {}
    },
    {
      "cell_type": "code",
      "source": [
        "s[::1]"
      ],
      "outputs": [
        {
          "output_type": "execute_result",
          "execution_count": 56,
          "data": {
            "text/plain": [
              "'Hello world'"
            ]
          },
          "metadata": {}
        }
      ],
      "execution_count": 56,
      "metadata": {
        "ExecuteTime": {
          "end_time": "2020-01-22T13:59:38.764047Z",
          "start_time": "2020-01-22T13:59:38.761017Z"
        }
      }
    },
    {
      "cell_type": "code",
      "source": [
        "s[::2]"
      ],
      "outputs": [
        {
          "output_type": "execute_result",
          "execution_count": 57,
          "data": {
            "text/plain": [
              "'Hlowrd'"
            ]
          },
          "metadata": {}
        }
      ],
      "execution_count": 57,
      "metadata": {
        "ExecuteTime": {
          "end_time": "2020-01-22T13:59:39.028131Z",
          "start_time": "2020-01-22T13:59:39.024994Z"
        }
      }
    },
    {
      "cell_type": "markdown",
      "source": [
        "This technique is called *slicing*. Read more about the syntax here: https://docs.python.org/release/3.8.1/library/functions.html#slice\n",
        "Python has a very rich set of functions for text processing. See for example http://docs.python.org/3/library/string.html for more information.\n",
        "#### String formatting examples"
      ],
      "metadata": {}
    },
    {
      "cell_type": "code",
      "source": [
        "print(\"str1\", \"str2\", \"str3\")  # The print statement concatenates strings with a space"
      ],
      "outputs": [
        {
          "output_type": "stream",
          "name": "stdout",
          "text": [
            "str1 str2 str3\n"
          ]
        }
      ],
      "execution_count": 58,
      "metadata": {
        "ExecuteTime": {
          "end_time": "2020-01-22T13:59:39.475561Z",
          "start_time": "2020-01-22T13:59:39.472876Z"
        }
      }
    },
    {
      "cell_type": "code",
      "source": [
        "print(\"str1\", 1.0, False, -1j)  # The print statements converts all arguments to strings"
      ],
      "outputs": [
        {
          "output_type": "stream",
          "name": "stdout",
          "text": [
            "str1 1.0 False (-0-1j)\n"
          ]
        }
      ],
      "execution_count": 59,
      "metadata": {
        "ExecuteTime": {
          "end_time": "2020-01-22T13:59:39.693412Z",
          "start_time": "2020-01-22T13:59:39.690744Z"
        }
      }
    },
    {
      "cell_type": "code",
      "source": [
        "print(\"str1\" + \"str2\" + \"str3\") # strings added with + are concatenated without space"
      ],
      "outputs": [
        {
          "output_type": "stream",
          "name": "stdout",
          "text": [
            "str1str2str3\n"
          ]
        }
      ],
      "execution_count": 60,
      "metadata": {
        "ExecuteTime": {
          "end_time": "2020-01-22T13:59:39.956457Z",
          "start_time": "2020-01-22T13:59:39.953825Z"
        }
      }
    },
    {
      "cell_type": "code",
      "source": [
        "print(\"value = %f\" % 1.0)       # we can use C-style string formatting"
      ],
      "outputs": [
        {
          "output_type": "stream",
          "name": "stdout",
          "text": [
            "value = 1.000000\n"
          ]
        }
      ],
      "execution_count": 61,
      "metadata": {
        "ExecuteTime": {
          "end_time": "2020-01-22T13:59:40.155757Z",
          "start_time": "2020-01-22T13:59:40.153267Z"
        }
      }
    },
    {
      "cell_type": "code",
      "source": [
        "# this formatting creates a string\n",
        "s2 = \"value1 = %.2f. value2 = %d\" % (3.1415, 1.5)\n",
        "\n",
        "print(s2)"
      ],
      "outputs": [
        {
          "output_type": "stream",
          "name": "stdout",
          "text": [
            "value1 = 3.14. value2 = 1\n"
          ]
        }
      ],
      "execution_count": 62,
      "metadata": {
        "ExecuteTime": {
          "end_time": "2020-01-22T13:59:40.395592Z",
          "start_time": "2020-01-22T13:59:40.393058Z"
        }
      }
    },
    {
      "cell_type": "code",
      "source": [
        "# alternative, more intuitive way of formatting a string \n",
        "s3 = 'value1 = {0}, value2 = {1}'.format(3.1415, 1.5)\n",
        "\n",
        "print(s3)"
      ],
      "outputs": [
        {
          "output_type": "stream",
          "name": "stdout",
          "text": [
            "value1 = 3.1415, value2 = 1.5\n"
          ]
        }
      ],
      "execution_count": 63,
      "metadata": {
        "ExecuteTime": {
          "end_time": "2020-01-22T13:59:40.627904Z",
          "start_time": "2020-01-22T13:59:40.625324Z"
        }
      }
    },
    {
      "cell_type": "markdown",
      "source": [
        "### List"
      ],
      "metadata": {}
    },
    {
      "cell_type": "markdown",
      "source": [
        "Lists are very similar to strings, except that each element can be of any type.\n",
        "\n",
        "The syntax for creating lists in Python is `[...]`:"
      ],
      "metadata": {}
    },
    {
      "cell_type": "code",
      "source": [
        "l = [1,2,3,4]\n",
        "\n",
        "print(type(l))\n",
        "print(l)"
      ],
      "outputs": [
        {
          "output_type": "stream",
          "name": "stdout",
          "text": [
            "<class 'list'>\n",
            "[1, 2, 3, 4]\n"
          ]
        }
      ],
      "execution_count": 64,
      "metadata": {
        "ExecuteTime": {
          "end_time": "2020-01-22T13:59:41.308006Z",
          "start_time": "2020-01-22T13:59:41.304831Z"
        }
      }
    },
    {
      "cell_type": "markdown",
      "source": [
        "We can use the same slicing techniques to manipulate lists as we could use on strings:"
      ],
      "metadata": {}
    },
    {
      "cell_type": "code",
      "source": [
        "print(l)\n",
        "\n",
        "print(l[1:3])\n",
        "\n",
        "print(l[::2])"
      ],
      "outputs": [
        {
          "output_type": "stream",
          "name": "stdout",
          "text": [
            "[1, 2, 3, 4]\n",
            "[2, 3]\n",
            "[1, 3]\n"
          ]
        }
      ],
      "execution_count": 65,
      "metadata": {
        "ExecuteTime": {
          "end_time": "2020-01-22T13:59:41.747501Z",
          "start_time": "2020-01-22T13:59:41.744590Z"
        }
      }
    },
    {
      "cell_type": "markdown",
      "source": [
        "**Heads up MATLAB users:** Indexing starts at 0!"
      ],
      "metadata": {}
    },
    {
      "cell_type": "code",
      "source": [
        "l[0]"
      ],
      "outputs": [
        {
          "output_type": "execute_result",
          "execution_count": 66,
          "data": {
            "text/plain": [
              "1"
            ]
          },
          "metadata": {}
        }
      ],
      "execution_count": 66,
      "metadata": {
        "ExecuteTime": {
          "end_time": "2020-01-22T13:59:42.171767Z",
          "start_time": "2020-01-22T13:59:42.168802Z"
        }
      }
    },
    {
      "cell_type": "markdown",
      "source": [
        "Elements in a list do not all have to be of the same type:"
      ],
      "metadata": {}
    },
    {
      "cell_type": "code",
      "source": [
        "l = [1, 'a', 1.0, 1-1j]\n",
        "\n",
        "print(l)"
      ],
      "outputs": [
        {
          "output_type": "stream",
          "name": "stdout",
          "text": [
            "[1, 'a', 1.0, (1-1j)]\n"
          ]
        }
      ],
      "execution_count": 67,
      "metadata": {
        "ExecuteTime": {
          "end_time": "2020-01-22T13:59:42.611609Z",
          "start_time": "2020-01-22T13:59:42.608993Z"
        }
      }
    },
    {
      "cell_type": "markdown",
      "source": [
        "Python lists can be inhomogeneous and arbitrarily nested:"
      ],
      "metadata": {}
    },
    {
      "cell_type": "code",
      "source": [
        "nested_list = [1, [2, [3, [4, [5]]]]]\n",
        "\n",
        "nested_list"
      ],
      "outputs": [
        {
          "output_type": "execute_result",
          "execution_count": 68,
          "data": {
            "text/plain": [
              "[1, [2, [3, [4, [5]]]]]"
            ]
          },
          "metadata": {}
        }
      ],
      "execution_count": 68,
      "metadata": {
        "ExecuteTime": {
          "end_time": "2020-01-22T13:59:43.036574Z",
          "start_time": "2020-01-22T13:59:43.033080Z"
        }
      }
    },
    {
      "cell_type": "markdown",
      "source": [
        "Lists play a very important role in Python. For example they are used in loops and other flow control structures (discussed below). There are a number of convenient functions for generating lists of various types, for example the `range` function:"
      ],
      "metadata": {}
    },
    {
      "cell_type": "code",
      "source": [
        "start = 10\n",
        "stop = 30\n",
        "step = 2\n",
        "\n",
        "range(start, stop, step)"
      ],
      "outputs": [
        {
          "output_type": "execute_result",
          "execution_count": 69,
          "data": {
            "text/plain": [
              "range(10, 30, 2)"
            ]
          },
          "metadata": {}
        }
      ],
      "execution_count": 69,
      "metadata": {
        "ExecuteTime": {
          "end_time": "2020-01-22T13:59:43.475960Z",
          "start_time": "2020-01-22T13:59:43.472523Z"
        }
      }
    },
    {
      "cell_type": "code",
      "source": [
        "# in python 3 range generates an iterator, which can be converted to a list using 'list(...)'.\n",
        "# It has no effect in python 2\n",
        "list(range(start, stop, step))"
      ],
      "outputs": [
        {
          "output_type": "execute_result",
          "execution_count": 70,
          "data": {
            "text/plain": [
              "[10, 12, 14, 16, 18, 20, 22, 24, 26, 28]"
            ]
          },
          "metadata": {}
        }
      ],
      "execution_count": 70,
      "metadata": {
        "ExecuteTime": {
          "end_time": "2020-01-22T13:59:43.684703Z",
          "start_time": "2020-01-22T13:59:43.681396Z"
        }
      }
    },
    {
      "cell_type": "code",
      "source": [
        "list(range(-10, 10))"
      ],
      "outputs": [
        {
          "output_type": "execute_result",
          "execution_count": 71,
          "data": {
            "text/plain": [
              "[-10, -9, -8, -7, -6, -5, -4, -3, -2, -1, 0, 1, 2, 3, 4, 5, 6, 7, 8, 9]"
            ]
          },
          "metadata": {}
        }
      ],
      "execution_count": 71,
      "metadata": {
        "ExecuteTime": {
          "end_time": "2020-01-22T13:59:43.884359Z",
          "start_time": "2020-01-22T13:59:43.881132Z"
        }
      }
    },
    {
      "cell_type": "code",
      "source": [
        "s"
      ],
      "outputs": [
        {
          "output_type": "execute_result",
          "execution_count": 72,
          "data": {
            "text/plain": [
              "'Hello world'"
            ]
          },
          "metadata": {}
        }
      ],
      "execution_count": 72,
      "metadata": {
        "ExecuteTime": {
          "end_time": "2020-01-22T13:59:44.084128Z",
          "start_time": "2020-01-22T13:59:44.081341Z"
        }
      }
    },
    {
      "cell_type": "code",
      "source": [
        "# convert a string to a list by type casting:\n",
        "s2 = list(s)\n",
        "\n",
        "s2"
      ],
      "outputs": [
        {
          "output_type": "execute_result",
          "execution_count": 73,
          "data": {
            "text/plain": [
              "['H', 'e', 'l', 'l', 'o', ' ', 'w', 'o', 'r', 'l', 'd']"
            ]
          },
          "metadata": {}
        }
      ],
      "execution_count": 73,
      "metadata": {
        "ExecuteTime": {
          "end_time": "2020-01-22T13:59:44.307892Z",
          "start_time": "2020-01-22T13:59:44.304871Z"
        }
      }
    },
    {
      "cell_type": "code",
      "source": [
        "# sorting lists\n",
        "s2.sort()\n",
        "\n",
        "print(s2)"
      ],
      "outputs": [
        {
          "output_type": "stream",
          "name": "stdout",
          "text": [
            "[' ', 'H', 'd', 'e', 'l', 'l', 'l', 'o', 'o', 'r', 'w']\n"
          ]
        }
      ],
      "execution_count": 74,
      "metadata": {
        "ExecuteTime": {
          "end_time": "2020-01-22T13:59:44.507585Z",
          "start_time": "2020-01-22T13:59:44.505071Z"
        }
      }
    },
    {
      "cell_type": "markdown",
      "source": [
        "#### Adding, inserting, modifying, and removing elements from lists"
      ],
      "metadata": {}
    },
    {
      "cell_type": "code",
      "source": [
        "# create a new empty list\n",
        "l = []\n",
        "\n",
        "# add an elements using `append`\n",
        "l.append(\"A\")\n",
        "l.append(\"d\")\n",
        "l.append(\"d\")\n",
        "\n",
        "print(l)"
      ],
      "outputs": [
        {
          "output_type": "stream",
          "name": "stdout",
          "text": [
            "['A', 'd', 'd']\n"
          ]
        }
      ],
      "execution_count": 75,
      "metadata": {
        "ExecuteTime": {
          "end_time": "2020-01-22T13:59:44.931216Z",
          "start_time": "2020-01-22T13:59:44.928288Z"
        }
      }
    },
    {
      "cell_type": "markdown",
      "source": [
        "We can modify lists by assigning new values to elements in the list. In technical jargon, lists are *mutable*."
      ],
      "metadata": {}
    },
    {
      "cell_type": "code",
      "source": [
        "l[1] = \"p\"\n",
        "l[2] = \"p\"\n",
        "\n",
        "print(l)"
      ],
      "outputs": [
        {
          "output_type": "stream",
          "name": "stdout",
          "text": [
            "['A', 'p', 'p']\n"
          ]
        }
      ],
      "execution_count": 76,
      "metadata": {
        "ExecuteTime": {
          "end_time": "2020-01-22T13:59:45.355042Z",
          "start_time": "2020-01-22T13:59:45.352449Z"
        }
      }
    },
    {
      "cell_type": "code",
      "source": [
        "l[1:3] = [\"d\", \"d\"]\n",
        "\n",
        "print(l)"
      ],
      "outputs": [
        {
          "output_type": "stream",
          "name": "stdout",
          "text": [
            "['A', 'd', 'd']\n"
          ]
        }
      ],
      "execution_count": 77,
      "metadata": {
        "ExecuteTime": {
          "end_time": "2020-01-22T13:59:45.571516Z",
          "start_time": "2020-01-22T13:59:45.568921Z"
        }
      }
    },
    {
      "cell_type": "markdown",
      "source": [
        "Insert an element at an specific index using `insert`"
      ],
      "metadata": {}
    },
    {
      "cell_type": "code",
      "source": [
        "l.insert(0, \"i\")\n",
        "l.insert(1, \"n\")\n",
        "l.insert(2, \"s\")\n",
        "l.insert(3, \"e\")\n",
        "l.insert(4, \"r\")\n",
        "l.insert(5, \"t\")\n",
        "\n",
        "print(l)"
      ],
      "outputs": [
        {
          "output_type": "stream",
          "name": "stdout",
          "text": [
            "['i', 'n', 's', 'e', 'r', 't', 'A', 'd', 'd']\n"
          ]
        }
      ],
      "execution_count": 78,
      "metadata": {
        "ExecuteTime": {
          "end_time": "2020-01-22T13:59:46.020315Z",
          "start_time": "2020-01-22T13:59:46.017108Z"
        }
      }
    },
    {
      "cell_type": "markdown",
      "source": [
        "Remove first element with specific value using 'remove'"
      ],
      "metadata": {}
    },
    {
      "cell_type": "code",
      "source": [
        "l.remove(\"A\")\n",
        "\n",
        "print(l)"
      ],
      "outputs": [
        {
          "output_type": "stream",
          "name": "stdout",
          "text": [
            "['i', 'n', 's', 'e', 'r', 't', 'd', 'd']\n"
          ]
        }
      ],
      "execution_count": 79,
      "metadata": {
        "ExecuteTime": {
          "end_time": "2020-01-22T13:59:46.458951Z",
          "start_time": "2020-01-22T13:59:46.456496Z"
        }
      }
    },
    {
      "cell_type": "markdown",
      "source": [
        "Remove an element at a specific location using `del`:"
      ],
      "metadata": {}
    },
    {
      "cell_type": "code",
      "source": [
        "del l[7]\n",
        "del l[6]\n",
        "\n",
        "print(l)"
      ],
      "outputs": [
        {
          "output_type": "stream",
          "name": "stdout",
          "text": [
            "['i', 'n', 's', 'e', 'r', 't']\n"
          ]
        }
      ],
      "execution_count": 80,
      "metadata": {
        "ExecuteTime": {
          "end_time": "2020-01-22T13:59:46.923402Z",
          "start_time": "2020-01-22T13:59:46.920757Z"
        }
      }
    },
    {
      "cell_type": "markdown",
      "source": [
        "See `help(list)` for more details, or read the online documentation "
      ],
      "metadata": {}
    },
    {
      "cell_type": "markdown",
      "source": [
        "### Tuples"
      ],
      "metadata": {}
    },
    {
      "cell_type": "markdown",
      "source": [
        "Tuples are like lists, except that they cannot be modified once created, that is they are *immutable*. \n",
        "\n",
        "In Python, tuples are created using the syntax `(..., ..., ...)`, or even `..., ...`:"
      ],
      "metadata": {}
    },
    {
      "cell_type": "code",
      "source": [
        "point = (10, 20)\n",
        "\n",
        "print(point, type(point))"
      ],
      "outputs": [
        {
          "output_type": "stream",
          "name": "stdout",
          "text": [
            "(10, 20) <class 'tuple'>\n"
          ]
        }
      ],
      "execution_count": 81,
      "metadata": {
        "ExecuteTime": {
          "end_time": "2020-01-22T13:59:47.891690Z",
          "start_time": "2020-01-22T13:59:47.888368Z"
        }
      }
    },
    {
      "cell_type": "code",
      "source": [
        "point = 10, 20\n",
        "\n",
        "print(point, type(point))"
      ],
      "outputs": [
        {
          "output_type": "stream",
          "name": "stdout",
          "text": [
            "(10, 20) <class 'tuple'>\n"
          ]
        }
      ],
      "execution_count": 82,
      "metadata": {
        "ExecuteTime": {
          "end_time": "2020-01-22T13:59:48.115956Z",
          "start_time": "2020-01-22T13:59:48.113325Z"
        }
      }
    },
    {
      "cell_type": "markdown",
      "source": [
        "We can unpack a tuple by assigning it to a comma-separated list of variables:"
      ],
      "metadata": {}
    },
    {
      "cell_type": "code",
      "source": [
        "x, y = point\n",
        "\n",
        "print(\"x =\", x)\n",
        "print(\"y =\", y)"
      ],
      "outputs": [
        {
          "output_type": "stream",
          "name": "stdout",
          "text": [
            "x = 10\n",
            "y = 20\n"
          ]
        }
      ],
      "execution_count": 83,
      "metadata": {
        "ExecuteTime": {
          "end_time": "2020-01-22T13:59:48.555330Z",
          "start_time": "2020-01-22T13:59:48.552489Z"
        }
      }
    },
    {
      "cell_type": "markdown",
      "source": [
        "If we try to assign a new value to an element in a tuple we get an error:"
      ],
      "metadata": {}
    },
    {
      "cell_type": "code",
      "source": [
        "point[0] = 20"
      ],
      "outputs": [
        {
          "output_type": "error",
          "ename": "TypeError",
          "evalue": "'tuple' object does not support item assignment",
          "traceback": [
            "\u001b[0;31m---------------------------------------------------------------------------\u001b[0m",
            "\u001b[0;31mTypeError\u001b[0m                                 Traceback (most recent call last)",
            "\u001b[0;32m<ipython-input-84-9734b1daa940>\u001b[0m in \u001b[0;36m<module>\u001b[0;34m\u001b[0m\n\u001b[0;32m----> 1\u001b[0;31m \u001b[0mpoint\u001b[0m\u001b[0;34m[\u001b[0m\u001b[0;36m0\u001b[0m\u001b[0;34m]\u001b[0m \u001b[0;34m=\u001b[0m \u001b[0;36m20\u001b[0m\u001b[0;34m\u001b[0m\u001b[0;34m\u001b[0m\u001b[0m\n\u001b[0m",
            "\u001b[0;31mTypeError\u001b[0m: 'tuple' object does not support item assignment"
          ]
        }
      ],
      "execution_count": 84,
      "metadata": {
        "ExecuteTime": {
          "end_time": "2020-01-22T13:59:49.022316Z",
          "start_time": "2020-01-22T13:59:49.016505Z"
        }
      }
    },
    {
      "cell_type": "markdown",
      "source": [
        "### Dictionaries"
      ],
      "metadata": {}
    },
    {
      "cell_type": "markdown",
      "source": [
        "Dictionaries are also like lists, except that each element is a key-value pair. The syntax for dictionaries is `{key1 : value1, ...}`:"
      ],
      "metadata": {}
    },
    {
      "cell_type": "code",
      "source": [
        "params = {\"parameter1\" : 1.0,\n",
        "          \"parameter2\" : 2.0,\n",
        "          \"parameter3\" : 3.0,}\n",
        "\n",
        "print(type(params))\n",
        "print(params)"
      ],
      "outputs": [
        {
          "output_type": "stream",
          "name": "stdout",
          "text": [
            "<class 'dict'>\n",
            "{'parameter1': 1.0, 'parameter2': 2.0, 'parameter3': 3.0}\n"
          ]
        }
      ],
      "execution_count": 85,
      "metadata": {
        "ExecuteTime": {
          "end_time": "2020-01-22T13:59:49.747686Z",
          "start_time": "2020-01-22T13:59:49.744596Z"
        }
      }
    },
    {
      "cell_type": "code",
      "source": [
        "print(\"parameter1 = \" + str(params[\"parameter1\"]))\n",
        "print(\"parameter2 = \" + str(params[\"parameter2\"]))\n",
        "print(\"parameter3 = \" + str(params[\"parameter3\"]))"
      ],
      "outputs": [
        {
          "output_type": "stream",
          "name": "stdout",
          "text": [
            "parameter1 = 1.0\n",
            "parameter2 = 2.0\n",
            "parameter3 = 3.0\n"
          ]
        }
      ],
      "execution_count": 86,
      "metadata": {
        "ExecuteTime": {
          "end_time": "2020-01-22T13:59:49.964406Z",
          "start_time": "2020-01-22T13:59:49.961353Z"
        }
      }
    },
    {
      "cell_type": "code",
      "source": [
        "params[\"parameter1\"] = \"A\"\n",
        "params[\"parameter2\"] = \"B\"\n",
        "\n",
        "# add a new entry\n",
        "params[\"parameter4\"] = \"D\"\n",
        "\n",
        "print(\"parameter1 = \" + str(params[\"parameter1\"]))\n",
        "print(\"parameter2 = \" + str(params[\"parameter2\"]))\n",
        "print(\"parameter3 = \" + str(params[\"parameter3\"]))\n",
        "print(\"parameter4 = \" + str(params[\"parameter4\"]))"
      ],
      "outputs": [
        {
          "output_type": "stream",
          "name": "stdout",
          "text": [
            "parameter1 = A\n",
            "parameter2 = B\n",
            "parameter3 = 3.0\n",
            "parameter4 = D\n"
          ]
        }
      ],
      "execution_count": 87,
      "metadata": {
        "ExecuteTime": {
          "end_time": "2020-01-22T13:59:50.188621Z",
          "start_time": "2020-01-22T13:59:50.184996Z"
        }
      }
    },
    {
      "cell_type": "markdown",
      "source": [
        "## Control Flow\n",
        "### Conditional statements: if, elif, else\n",
        "The Python syntax for conditional execution of code uses the keywords `if`, `elif` (else if), `else`:"
      ],
      "metadata": {}
    },
    {
      "cell_type": "code",
      "source": [
        "statement1 = False\n",
        "statement2 = False\n",
        "\n",
        "if statement1:\n",
        "    print(\"statement1 is True\")\n",
        "    \n",
        "elif statement2:\n",
        "    print(\"statement2 is True\")\n",
        "    \n",
        "else:\n",
        "    print(\"statement1 and statement2 are False\")"
      ],
      "outputs": [
        {
          "output_type": "stream",
          "name": "stdout",
          "text": [
            "statement1 and statement2 are False\n"
          ]
        }
      ],
      "execution_count": 88,
      "metadata": {
        "ExecuteTime": {
          "end_time": "2020-01-22T13:59:50.627933Z",
          "start_time": "2020-01-22T13:59:50.624914Z"
        }
      }
    },
    {
      "cell_type": "markdown",
      "source": [
        "For the first time, here we encounted a peculiar and unusual aspect of the Python programming language: Program blocks are defined by their indentation level. \n",
        "\n",
        "Compare to the equivalent C code:\n",
        "\n",
        "    if (statement1)\n",
        "    {\n",
        "        printf(\"statement1 is True\\n\");\n",
        "    }\n",
        "    else if (statement2)\n",
        "    {\n",
        "        printf(\"statement2 is True\\n\");\n",
        "    }\n",
        "    else\n",
        "    {\n",
        "        printf(\"statement1 and statement2 are False\\n\");\n",
        "    }\n",
        "\n",
        "In C blocks are defined by the enclosing curly brakets `{` and `}`. And the level of indentation (white space before the code statements) does not matter (completely optional). \n",
        "\n",
        "But in Python, the extent of a code block is defined by the indentation level (usually a tab or say four white spaces). This means that we have to be careful to indent our code correctly, or else we will get syntax errors. \n",
        "#### Examples:"
      ],
      "metadata": {}
    },
    {
      "cell_type": "code",
      "source": [
        "statement1 = statement2 = True\n",
        "\n",
        "if statement1:\n",
        "    if statement2:\n",
        "        print(\"both statement1 and statement2 are True\")"
      ],
      "outputs": [
        {
          "output_type": "stream",
          "name": "stdout",
          "text": [
            "both statement1 and statement2 are True\n"
          ]
        }
      ],
      "execution_count": 89,
      "metadata": {
        "ExecuteTime": {
          "end_time": "2020-01-22T13:59:51.114940Z",
          "start_time": "2020-01-22T13:59:51.112285Z"
        }
      }
    },
    {
      "cell_type": "code",
      "source": [
        "# Bad indentation!\n",
        "if statement1:\n",
        "    if statement2:\n",
        "    print(\"both statement1 and statement2 are True\")  # this line is not properly indented"
      ],
      "outputs": [
        {
          "output_type": "error",
          "ename": "IndentationError",
          "evalue": "expected an indented block (<ipython-input-90-ac4109c9123a>, line 4)",
          "traceback": [
            "\u001b[0;36m  File \u001b[0;32m\"<ipython-input-90-ac4109c9123a>\"\u001b[0;36m, line \u001b[0;32m4\u001b[0m\n\u001b[0;31m    print(\"both statement1 and statement2 are True\")  # this line is not properly indented\u001b[0m\n\u001b[0m        ^\u001b[0m\n\u001b[0;31mIndentationError\u001b[0m\u001b[0;31m:\u001b[0m expected an indented block\n"
          ]
        }
      ],
      "execution_count": 90,
      "metadata": {
        "ExecuteTime": {
          "end_time": "2020-01-22T13:59:51.339813Z",
          "start_time": "2020-01-22T13:59:51.336799Z"
        }
      }
    },
    {
      "cell_type": "code",
      "source": [
        "statement1 = False \n",
        "\n",
        "if statement1:\n",
        "    print(\"printed if statement1 is True\")\n",
        "    \n",
        "    print(\"still inside the if block\")"
      ],
      "outputs": [],
      "execution_count": 91,
      "metadata": {
        "ExecuteTime": {
          "end_time": "2020-01-22T13:59:51.580572Z",
          "start_time": "2020-01-22T13:59:51.578133Z"
        }
      }
    },
    {
      "cell_type": "code",
      "source": [
        "if statement1:\n",
        "    print(\"printed if statement1 is True\")\n",
        "    \n",
        "print(\"now outside the if block\")"
      ],
      "outputs": [
        {
          "output_type": "stream",
          "name": "stdout",
          "text": [
            "now outside the if block\n"
          ]
        }
      ],
      "execution_count": 92,
      "metadata": {
        "ExecuteTime": {
          "end_time": "2020-01-22T13:59:51.819283Z",
          "start_time": "2020-01-22T13:59:51.816777Z"
        }
      }
    },
    {
      "cell_type": "markdown",
      "source": [
        "## Loops\n",
        "In Python, loops can be programmed in a number of different ways. The most common is the `for` loop, which is used together with iterable objects, such as lists. The basic syntax is:\n",
        "### **`for` loops**:"
      ],
      "metadata": {}
    },
    {
      "cell_type": "code",
      "source": [
        "for x in [1,2,3]:\n",
        "    print(x)"
      ],
      "outputs": [
        {
          "output_type": "stream",
          "name": "stdout",
          "text": [
            "1\n",
            "2\n",
            "3\n"
          ]
        }
      ],
      "execution_count": 93,
      "metadata": {
        "ExecuteTime": {
          "end_time": "2020-01-22T13:59:52.259125Z",
          "start_time": "2020-01-22T13:59:52.256561Z"
        }
      }
    },
    {
      "cell_type": "markdown",
      "source": [
        "The `for` loop iterates over the elements of the supplied list, and executes the containing block once for each element. Any kind of list can be used in the `for` loop. For example:"
      ],
      "metadata": {}
    },
    {
      "cell_type": "code",
      "source": [
        "for x in range(4): # by default range start at 0\n",
        "    print(x)"
      ],
      "outputs": [
        {
          "output_type": "stream",
          "name": "stdout",
          "text": [
            "0\n",
            "1\n",
            "2\n",
            "3\n"
          ]
        }
      ],
      "execution_count": 94,
      "metadata": {
        "ExecuteTime": {
          "end_time": "2020-01-22T13:59:52.722823Z",
          "start_time": "2020-01-22T13:59:52.720084Z"
        }
      }
    },
    {
      "cell_type": "markdown",
      "source": [
        "Note: `range(4)` does not include 4 !"
      ],
      "metadata": {}
    },
    {
      "cell_type": "code",
      "source": [
        "for x in range(-3,3):\n",
        "    print(x)"
      ],
      "outputs": [
        {
          "output_type": "stream",
          "name": "stdout",
          "text": [
            "-3\n",
            "-2\n",
            "-1\n",
            "0\n",
            "1\n",
            "2\n"
          ]
        }
      ],
      "execution_count": 95,
      "metadata": {
        "ExecuteTime": {
          "end_time": "2020-01-22T13:59:53.171016Z",
          "start_time": "2020-01-22T13:59:53.168274Z"
        }
      }
    },
    {
      "cell_type": "code",
      "source": [
        "for word in [\"scientific\", \"computing\", \"with\", \"python\"]:\n",
        "    print(word)"
      ],
      "outputs": [
        {
          "output_type": "stream",
          "name": "stdout",
          "text": [
            "scientific\n",
            "computing\n",
            "with\n",
            "python\n"
          ]
        }
      ],
      "execution_count": 96,
      "metadata": {
        "ExecuteTime": {
          "end_time": "2020-01-22T13:59:53.387204Z",
          "start_time": "2020-01-22T13:59:53.384417Z"
        }
      }
    },
    {
      "cell_type": "markdown",
      "source": [
        "To iterate over key-value pairs of a dictionary:"
      ],
      "metadata": {}
    },
    {
      "cell_type": "code",
      "source": [
        "for key, value in params.items():\n",
        "    print(key + \" = \" + str(value))"
      ],
      "outputs": [
        {
          "output_type": "stream",
          "name": "stdout",
          "text": [
            "parameter1 = A\n",
            "parameter2 = B\n",
            "parameter3 = 3.0\n",
            "parameter4 = D\n"
          ]
        }
      ],
      "execution_count": 97,
      "metadata": {
        "ExecuteTime": {
          "end_time": "2020-01-22T13:59:53.786680Z",
          "start_time": "2020-01-22T13:59:53.783943Z"
        }
      }
    },
    {
      "cell_type": "markdown",
      "source": [
        "Sometimes it is useful to have access to the indices of the values when iterating over a list. We can use the `enumerate` function for this:"
      ],
      "metadata": {}
    },
    {
      "cell_type": "code",
      "source": [
        "for idx, x in enumerate(range(-3,3)):\n",
        "    print(idx, x)"
      ],
      "outputs": [
        {
          "output_type": "stream",
          "name": "stdout",
          "text": [
            "0 -3\n",
            "1 -2\n",
            "2 -1\n",
            "3 0\n",
            "4 1\n",
            "5 2\n"
          ]
        }
      ],
      "execution_count": 98,
      "metadata": {
        "ExecuteTime": {
          "end_time": "2020-01-22T13:59:54.195331Z",
          "start_time": "2020-01-22T13:59:54.192190Z"
        }
      }
    },
    {
      "cell_type": "markdown",
      "source": [
        "### List comprehensions: Creating lists using `for` loops:\n",
        "A convenient and compact way to initialize lists:"
      ],
      "metadata": {}
    },
    {
      "cell_type": "code",
      "source": [
        "l1 = [x**2 for x in range(0,5)]\n",
        "\n",
        "print(l1)"
      ],
      "outputs": [
        {
          "output_type": "stream",
          "name": "stdout",
          "text": [
            "[0, 1, 4, 9, 16]\n"
          ]
        }
      ],
      "execution_count": 99,
      "metadata": {
        "ExecuteTime": {
          "end_time": "2020-01-22T13:59:54.618970Z",
          "start_time": "2020-01-22T13:59:54.616308Z"
        }
      }
    },
    {
      "cell_type": "markdown",
      "source": [
        "### `while` loops:"
      ],
      "metadata": {}
    },
    {
      "cell_type": "code",
      "source": [
        "i = 0\n",
        "\n",
        "while i < 5:\n",
        "    print(i)\n",
        "    \n",
        "    i = i + 1\n",
        "    \n",
        "print(\"done\")"
      ],
      "outputs": [
        {
          "output_type": "stream",
          "name": "stdout",
          "text": [
            "0\n",
            "1\n",
            "2\n",
            "3\n",
            "4\n",
            "done\n"
          ]
        }
      ],
      "execution_count": 100,
      "metadata": {
        "ExecuteTime": {
          "end_time": "2020-01-22T13:59:55.019474Z",
          "start_time": "2020-01-22T13:59:55.016537Z"
        }
      }
    },
    {
      "cell_type": "markdown",
      "source": [
        "Note that the `print(\"done\")` statement is not part of the `while` loop body because of the difference in indentation."
      ],
      "metadata": {}
    },
    {
      "cell_type": "markdown",
      "source": [
        "## Functions\n",
        "A function in Python is defined using the keyword `def`, followed by a function name, a signature within parentheses `()`, and a colon `:`. The following code, with one additional level of indentation, is the function body."
      ],
      "metadata": {}
    },
    {
      "cell_type": "code",
      "source": [
        "def func0():   \n",
        "    print(\"test\")"
      ],
      "outputs": [],
      "execution_count": 101,
      "metadata": {
        "ExecuteTime": {
          "end_time": "2020-01-22T13:59:55.682270Z",
          "start_time": "2020-01-22T13:59:55.680002Z"
        }
      }
    },
    {
      "cell_type": "code",
      "source": [
        "func0()"
      ],
      "outputs": [
        {
          "output_type": "stream",
          "name": "stdout",
          "text": [
            "test\n"
          ]
        }
      ],
      "execution_count": 102,
      "metadata": {
        "ExecuteTime": {
          "end_time": "2020-01-22T13:59:55.883080Z",
          "start_time": "2020-01-22T13:59:55.880813Z"
        }
      }
    },
    {
      "cell_type": "markdown",
      "source": [
        "Optionally, but highly recommended, we can define a so called \"docstring\", which is a description of the functions purpose and behaivor. The docstring should follow directly after the function definition, before the code in the function body."
      ],
      "metadata": {}
    },
    {
      "cell_type": "code",
      "source": [
        "def func1(s):\n",
        "    \"\"\"\n",
        "    Print a string 's' and tell how many characters it has    \n",
        "    \"\"\"\n",
        "    \n",
        "    print(s + \" has \" + str(len(s)) + \" characters\")"
      ],
      "outputs": [],
      "execution_count": 103,
      "metadata": {
        "ExecuteTime": {
          "end_time": "2020-01-22T13:59:56.306478Z",
          "start_time": "2020-01-22T13:59:56.303749Z"
        }
      }
    },
    {
      "cell_type": "code",
      "source": [
        "help(func1)"
      ],
      "outputs": [
        {
          "output_type": "stream",
          "name": "stdout",
          "text": [
            "Help on function func1 in module __main__:\n",
            "\n",
            "func1(s)\n",
            "    Print a string 's' and tell how many characters it has\n",
            "\n"
          ]
        }
      ],
      "execution_count": 104,
      "metadata": {
        "ExecuteTime": {
          "end_time": "2020-01-22T13:59:56.532083Z",
          "start_time": "2020-01-22T13:59:56.529532Z"
        }
      }
    },
    {
      "cell_type": "code",
      "source": [
        "func1(\"test\")"
      ],
      "outputs": [
        {
          "output_type": "stream",
          "name": "stdout",
          "text": [
            "test has 4 characters\n"
          ]
        }
      ],
      "execution_count": 105,
      "metadata": {
        "ExecuteTime": {
          "end_time": "2020-01-22T13:59:56.716924Z",
          "start_time": "2020-01-22T13:59:56.714554Z"
        }
      }
    },
    {
      "cell_type": "markdown",
      "source": [
        "Functions that returns a value use the `return` keyword:"
      ],
      "metadata": {}
    },
    {
      "cell_type": "code",
      "source": [
        "def square(x):\n",
        "    \"\"\"\n",
        "    Return the square of x.\n",
        "    \"\"\"\n",
        "    return x ** 2"
      ],
      "outputs": [],
      "execution_count": 106,
      "metadata": {
        "ExecuteTime": {
          "end_time": "2020-01-22T13:59:57.154340Z",
          "start_time": "2020-01-22T13:59:57.152048Z"
        }
      }
    },
    {
      "cell_type": "code",
      "source": [
        "square(4)"
      ],
      "outputs": [
        {
          "output_type": "execute_result",
          "execution_count": 107,
          "data": {
            "text/plain": [
              "16"
            ]
          },
          "metadata": {}
        }
      ],
      "execution_count": 107,
      "metadata": {
        "ExecuteTime": {
          "end_time": "2020-01-22T13:59:57.379560Z",
          "start_time": "2020-01-22T13:59:57.376458Z"
        }
      }
    },
    {
      "cell_type": "markdown",
      "source": [
        "We can return multiple values from a function using tuples (see above):"
      ],
      "metadata": {}
    },
    {
      "cell_type": "code",
      "source": [
        "def powers(x):\n",
        "    \"\"\"\n",
        "    Return a few powers of x.\n",
        "    \"\"\"\n",
        "    return x ** 2, x ** 3, x ** 4"
      ],
      "outputs": [],
      "execution_count": 108,
      "metadata": {
        "ExecuteTime": {
          "end_time": "2020-01-22T13:59:57.802319Z",
          "start_time": "2020-01-22T13:59:57.799999Z"
        }
      }
    },
    {
      "cell_type": "code",
      "source": [
        "powers(3)"
      ],
      "outputs": [
        {
          "output_type": "execute_result",
          "execution_count": 109,
          "data": {
            "text/plain": [
              "(9, 27, 81)"
            ]
          },
          "metadata": {}
        }
      ],
      "execution_count": 109,
      "metadata": {
        "ExecuteTime": {
          "end_time": "2020-01-22T13:59:58.004757Z",
          "start_time": "2020-01-22T13:59:58.001080Z"
        }
      }
    },
    {
      "cell_type": "code",
      "source": [
        "x2, x3, x4 = powers(3)\n",
        "\n",
        "print(x3)"
      ],
      "outputs": [
        {
          "output_type": "stream",
          "name": "stdout",
          "text": [
            "27\n"
          ]
        }
      ],
      "execution_count": 110,
      "metadata": {
        "ExecuteTime": {
          "end_time": "2020-01-22T13:59:58.226984Z",
          "start_time": "2020-01-22T13:59:58.224343Z"
        }
      }
    },
    {
      "cell_type": "markdown",
      "source": [
        "### Default argument and keyword arguments\n",
        "In a definition of a function, we can give default values to the arguments the function takes:"
      ],
      "metadata": {}
    },
    {
      "cell_type": "code",
      "source": [
        "def myfunc(x, p=2, debug=False):\n",
        "    if debug:\n",
        "        print(\"evaluating myfunc for x = \" + str(x) + \" using exponent p = \" + str(p))\n",
        "    return x**p"
      ],
      "outputs": [],
      "execution_count": 111,
      "metadata": {
        "ExecuteTime": {
          "end_time": "2020-01-22T13:59:58.626616Z",
          "start_time": "2020-01-22T13:59:58.623842Z"
        }
      }
    },
    {
      "cell_type": "markdown",
      "source": [
        "If we don't provide a value of the `debug` argument when calling the the function `myfunc` it defaults to the value provided in the function definition:"
      ],
      "metadata": {}
    },
    {
      "cell_type": "code",
      "source": [
        "myfunc(5)"
      ],
      "outputs": [
        {
          "output_type": "execute_result",
          "execution_count": 112,
          "data": {
            "text/plain": [
              "25"
            ]
          },
          "metadata": {}
        }
      ],
      "execution_count": 112,
      "metadata": {
        "ExecuteTime": {
          "end_time": "2020-01-22T13:59:59.066848Z",
          "start_time": "2020-01-22T13:59:59.063884Z"
        }
      }
    },
    {
      "cell_type": "code",
      "source": [
        "myfunc(5, debug=True)"
      ],
      "outputs": [
        {
          "output_type": "stream",
          "name": "stdout",
          "text": [
            "evaluating myfunc for x = 5 using exponent p = 2\n"
          ]
        },
        {
          "output_type": "execute_result",
          "execution_count": 113,
          "data": {
            "text/plain": [
              "25"
            ]
          },
          "metadata": {}
        }
      ],
      "execution_count": 113,
      "metadata": {
        "ExecuteTime": {
          "end_time": "2020-01-22T13:59:59.275629Z",
          "start_time": "2020-01-22T13:59:59.272230Z"
        }
      }
    },
    {
      "cell_type": "markdown",
      "source": [
        "If we explicitly list the name of the arguments in the function calls, they do not need to come in the same order as in the function definition. This is called *keyword* arguments, and is often very useful in functions that takes a lot of optional arguments."
      ],
      "metadata": {}
    },
    {
      "cell_type": "code",
      "source": [
        "myfunc(p=3, debug=True, x=7)"
      ],
      "outputs": [
        {
          "output_type": "stream",
          "name": "stdout",
          "text": [
            "evaluating myfunc for x = 7 using exponent p = 3\n"
          ]
        },
        {
          "output_type": "execute_result",
          "execution_count": 114,
          "data": {
            "text/plain": [
              "343"
            ]
          },
          "metadata": {}
        }
      ],
      "execution_count": 114,
      "metadata": {
        "ExecuteTime": {
          "end_time": "2020-01-22T13:59:59.675178Z",
          "start_time": "2020-01-22T13:59:59.671667Z"
        }
      }
    },
    {
      "cell_type": "markdown",
      "source": [
        "### Unnamed functions (lambda function)\n",
        "In Python we can also create unnamed functions, using the `lambda` keyword:"
      ],
      "metadata": {}
    },
    {
      "cell_type": "code",
      "source": [
        "f1 = lambda x: x**2\n",
        "    \n",
        "# is equivalent to \n",
        "\n",
        "def f2(x):\n",
        "    return x**2"
      ],
      "outputs": [],
      "execution_count": 115,
      "metadata": {
        "ExecuteTime": {
          "end_time": "2020-01-22T14:00:00.099159Z",
          "start_time": "2020-01-22T14:00:00.096681Z"
        }
      }
    },
    {
      "cell_type": "code",
      "source": [
        "f1(2), f2(2)"
      ],
      "outputs": [
        {
          "output_type": "execute_result",
          "execution_count": 116,
          "data": {
            "text/plain": [
              "(4, 4)"
            ]
          },
          "metadata": {}
        }
      ],
      "execution_count": 116,
      "metadata": {
        "ExecuteTime": {
          "end_time": "2020-01-22T14:00:00.300379Z",
          "start_time": "2020-01-22T14:00:00.297111Z"
        }
      }
    },
    {
      "cell_type": "markdown",
      "source": [
        "This technique is useful for example when we want to pass a simple function as an argument to another function, like this:"
      ],
      "metadata": {}
    },
    {
      "cell_type": "code",
      "source": [
        "# map is a built-in python function\n",
        "map(lambda x: x**2, range(-3,4))"
      ],
      "outputs": [
        {
          "output_type": "execute_result",
          "execution_count": 117,
          "data": {
            "text/plain": [
              "<map at 0x7fc91041b710>"
            ]
          },
          "metadata": {}
        }
      ],
      "execution_count": 117,
      "metadata": {
        "ExecuteTime": {
          "end_time": "2020-01-22T14:00:00.700027Z",
          "start_time": "2020-01-22T14:00:00.696833Z"
        }
      }
    },
    {
      "cell_type": "code",
      "source": [
        "# in python 3 we can use `list(...)` to convert the iterator to an explicit list\n",
        "list(map(lambda x: x**2, range(-3,4)))"
      ],
      "outputs": [
        {
          "output_type": "execute_result",
          "execution_count": 118,
          "data": {
            "text/plain": [
              "[9, 4, 1, 0, 1, 4, 9]"
            ]
          },
          "metadata": {}
        }
      ],
      "execution_count": 118,
      "metadata": {
        "ExecuteTime": {
          "end_time": "2020-01-22T14:00:00.900790Z",
          "start_time": "2020-01-22T14:00:00.897132Z"
        }
      }
    },
    {
      "cell_type": "markdown",
      "source": [
        "## Classes\n",
        "Classes are the key features of object-oriented programming. A class is a structure for representing an object and the operations that can be performed on the object. \n",
        "\n",
        "In Python a class can contain *attributes* (variables) and *methods* (functions).\n",
        "\n",
        "A class is defined almost like a function, but using the `class` keyword, and the class definition usually contains a number of class method definitions (a function in a class).\n",
        "\n",
        "* Each class method should have an argument `self` as its first argument. This object is a self-reference.\n",
        "\n",
        "* Some class method names have special meaning, for example:\n",
        "\n",
        "    * `__init__`: The name of the method that is invoked when the object is first created.\n",
        "    * `__str__` : A method that is invoked when a simple string representation of the class is needed, as for example when printed.\n",
        "    * There are many more, see http://docs.python.org/2/reference/datamodel.html#special-method-names"
      ],
      "metadata": {}
    },
    {
      "cell_type": "code",
      "source": [
        "class Point:\n",
        "    \"\"\"\n",
        "    Simple class for representing a point in a Cartesian coordinate system.\n",
        "    \"\"\"\n",
        "    \n",
        "    def __init__(self, x, y):\n",
        "        \"\"\"\n",
        "        Create a new Point at x, y.\n",
        "        \"\"\"\n",
        "        self.x = x\n",
        "        self.y = y\n",
        "        \n",
        "    def translate(self, dx, dy):\n",
        "        \"\"\"\n",
        "        Translate the point by dx and dy in the x and y direction.\n",
        "        \"\"\"\n",
        "        self.x += dx\n",
        "        self.y += dy\n",
        "        \n",
        "    def __str__(self):\n",
        "        return(\"Point at [%f, %f]\" % (self.x, self.y))"
      ],
      "outputs": [],
      "execution_count": 119,
      "metadata": {
        "ExecuteTime": {
          "end_time": "2020-01-22T14:00:01.307422Z",
          "start_time": "2020-01-22T14:00:01.303879Z"
        }
      }
    },
    {
      "cell_type": "markdown",
      "source": [
        "To create a new instance of a class:"
      ],
      "metadata": {}
    },
    {
      "cell_type": "code",
      "source": [
        "p1 = Point(0, 0) # this will invoke the __init__ method in the Point class\n",
        "\n",
        "print(p1)         # this will invoke the __str__ method"
      ],
      "outputs": [
        {
          "output_type": "stream",
          "name": "stdout",
          "text": [
            "Point at [0.000000, 0.000000]\n"
          ]
        }
      ],
      "execution_count": 120,
      "metadata": {
        "ExecuteTime": {
          "end_time": "2020-01-22T14:00:01.746512Z",
          "start_time": "2020-01-22T14:00:01.743918Z"
        }
      }
    },
    {
      "cell_type": "markdown",
      "source": [
        "To invoke a class method in the class instance `p`:"
      ],
      "metadata": {}
    },
    {
      "cell_type": "code",
      "source": [
        "p2 = Point(1, 1)\n",
        "\n",
        "p1.translate(0.25, 1.5)\n",
        "\n",
        "print(p1)\n",
        "print(p2)"
      ],
      "outputs": [
        {
          "output_type": "stream",
          "name": "stdout",
          "text": [
            "Point at [0.250000, 1.500000]\n",
            "Point at [1.000000, 1.000000]\n"
          ]
        }
      ],
      "execution_count": 121,
      "metadata": {
        "ExecuteTime": {
          "end_time": "2020-01-22T14:00:02.146914Z",
          "start_time": "2020-01-22T14:00:02.144056Z"
        }
      }
    },
    {
      "cell_type": "markdown",
      "source": [
        "Note that calling class methods can modifiy the state of that particular class instance, but does not effect other class instances or any global variables.\n",
        "\n",
        "That is one of the nice things about object-oriented design: code such as functions and related variables are grouped in separate and independent entities. "
      ],
      "metadata": {}
    },
    {
      "cell_type": "markdown",
      "source": [
        "## Modules\n",
        "One of the most important concepts in good programming is to reuse code and avoid repetitions.\n",
        "\n",
        "The idea is to write functions and classes with a well-defined purpose and scope, and reuse these instead of repeating similar code in different part of a program (modular programming). The result is usually that readability and maintainability of a program is greatly improved. What this means in practice is that our programs have fewer bugs, are easier to extend and debug/troubleshoot. \n",
        "\n",
        "Python supports modular programming at different levels. Functions and classes are examples of tools for low-level modular programming. Python modules are a higher-level modular programming construct, where we can collect related variables, functions and classes in a module. A python module is defined in a python file (with file-ending `.py`), and it can be made accessible to other Python modules and programs using the `import` statement. \n",
        "\n",
        "Consider the following example: the file `mymodule.py` contains simple example implementations of a variable, function and a class:"
      ],
      "metadata": {}
    },
    {
      "cell_type": "code",
      "source": [
        "%%file mymodule.py\n",
        "\"\"\"\n",
        "Example of a python module. Contains a variable called my_variable,\n",
        "a function called my_function, and a class called MyClass.\n",
        "\"\"\"\n",
        "\n",
        "my_variable = 0\n",
        "\n",
        "def my_function():\n",
        "    \"\"\"\n",
        "    Example function\n",
        "    \"\"\"\n",
        "    return my_variable\n",
        "    \n",
        "class MyClass:\n",
        "    \"\"\"\n",
        "    Example class.\n",
        "    \"\"\"\n",
        "\n",
        "    def __init__(self):\n",
        "        self.variable = my_variable\n",
        "        \n",
        "    def set_variable(self, new_value):\n",
        "        \"\"\"\n",
        "        Set self.variable to a new value\n",
        "        \"\"\"\n",
        "        self.variable = new_value\n",
        "        \n",
        "    def get_variable(self):\n",
        "        return self.variable"
      ],
      "outputs": [
        {
          "output_type": "stream",
          "name": "stdout",
          "text": [
            "Writing mymodule.py\n"
          ]
        }
      ],
      "execution_count": 122,
      "metadata": {
        "ExecuteTime": {
          "end_time": "2020-01-22T14:00:02.779969Z",
          "start_time": "2020-01-22T14:00:02.776010Z"
        }
      }
    },
    {
      "cell_type": "markdown",
      "source": [
        "We can import the module `mymodule` into our Python program using `import`:"
      ],
      "metadata": {}
    },
    {
      "cell_type": "code",
      "source": [
        "import mymodule"
      ],
      "outputs": [],
      "execution_count": 123,
      "metadata": {
        "ExecuteTime": {
          "end_time": "2020-01-22T14:00:03.243091Z",
          "start_time": "2020-01-22T14:00:03.239831Z"
        }
      }
    },
    {
      "cell_type": "markdown",
      "source": [
        "Use `help(module)` to get a summary of what the module provides:"
      ],
      "metadata": {}
    },
    {
      "cell_type": "code",
      "source": [
        "help(mymodule)"
      ],
      "outputs": [
        {
          "output_type": "stream",
          "name": "stdout",
          "text": [
            "Help on module mymodule:\n",
            "\n",
            "NAME\n",
            "    mymodule\n",
            "\n",
            "DESCRIPTION\n",
            "    Example of a python module. Contains a variable called my_variable,\n",
            "    a function called my_function, and a class called MyClass.\n",
            "\n",
            "CLASSES\n",
            "    builtins.object\n",
            "        MyClass\n",
            "    \n",
            "    class MyClass(builtins.object)\n",
            "     |  Example class.\n",
            "     |  \n",
            "     |  Methods defined here:\n",
            "     |  \n",
            "     |  __init__(self)\n",
            "     |      Initialize self.  See help(type(self)) for accurate signature.\n",
            "     |  \n",
            "     |  get_variable(self)\n",
            "     |  \n",
            "     |  set_variable(self, new_value)\n",
            "     |      Set self.variable to a new value\n",
            "     |  \n",
            "     |  ----------------------------------------------------------------------\n",
            "     |  Data descriptors defined here:\n",
            "     |  \n",
            "     |  __dict__\n",
            "     |      dictionary for instance variables (if defined)\n",
            "     |  \n",
            "     |  __weakref__\n",
            "     |      list of weak references to the object (if defined)\n",
            "\n",
            "FUNCTIONS\n",
            "    my_function()\n",
            "        Example function\n",
            "\n",
            "DATA\n",
            "    my_variable = 0\n",
            "\n",
            "FILE\n",
            "    /Users/pauln/Dropbox/DocumentsF/_Teaching/Spring2020/phy261/lectures-development/mymodule.py\n",
            "\n",
            "\n"
          ]
        }
      ],
      "execution_count": 124,
      "metadata": {
        "ExecuteTime": {
          "end_time": "2020-01-22T14:00:03.684971Z",
          "start_time": "2020-01-22T14:00:03.681204Z"
        }
      }
    },
    {
      "cell_type": "code",
      "source": [
        "mymodule.my_variable"
      ],
      "outputs": [
        {
          "output_type": "execute_result",
          "execution_count": 125,
          "data": {
            "text/plain": [
              "0"
            ]
          },
          "metadata": {}
        }
      ],
      "execution_count": 125,
      "metadata": {
        "ExecuteTime": {
          "end_time": "2020-01-22T14:00:03.907584Z",
          "start_time": "2020-01-22T14:00:03.904695Z"
        }
      }
    },
    {
      "cell_type": "code",
      "source": [
        "mymodule.my_function() "
      ],
      "outputs": [
        {
          "output_type": "execute_result",
          "execution_count": 126,
          "data": {
            "text/plain": [
              "0"
            ]
          },
          "metadata": {}
        }
      ],
      "execution_count": 126,
      "metadata": {
        "ExecuteTime": {
          "end_time": "2020-01-22T14:00:04.107816Z",
          "start_time": "2020-01-22T14:00:04.104507Z"
        }
      }
    },
    {
      "cell_type": "code",
      "source": [
        "my_class = mymodule.MyClass() \n",
        "my_class.set_variable(10)\n",
        "my_class.get_variable()"
      ],
      "outputs": [
        {
          "output_type": "execute_result",
          "execution_count": 127,
          "data": {
            "text/plain": [
              "10"
            ]
          },
          "metadata": {}
        }
      ],
      "execution_count": 127,
      "metadata": {
        "ExecuteTime": {
          "end_time": "2020-01-22T14:00:04.308152Z",
          "start_time": "2020-01-22T14:00:04.304508Z"
        }
      }
    },
    {
      "cell_type": "markdown",
      "source": [
        "If we make changes to the code in `mymodule.py`, we need to reload it using `reload`:"
      ],
      "metadata": {}
    },
    {
      "cell_type": "code",
      "source": [
        "reload(mymodule)  # works only in python 2"
      ],
      "outputs": [
        {
          "output_type": "error",
          "ename": "NameError",
          "evalue": "name 'reload' is not defined",
          "traceback": [
            "\u001b[0;31m---------------------------------------------------------------------------\u001b[0m",
            "\u001b[0;31mNameError\u001b[0m                                 Traceback (most recent call last)",
            "\u001b[0;32m<ipython-input-128-1a6cfac4c71b>\u001b[0m in \u001b[0;36m<module>\u001b[0;34m\u001b[0m\n\u001b[0;32m----> 1\u001b[0;31m \u001b[0mreload\u001b[0m\u001b[0;34m(\u001b[0m\u001b[0mmymodule\u001b[0m\u001b[0;34m)\u001b[0m  \u001b[0;31m# works only in python 2\u001b[0m\u001b[0;34m\u001b[0m\u001b[0;34m\u001b[0m\u001b[0m\n\u001b[0m",
            "\u001b[0;31mNameError\u001b[0m: name 'reload' is not defined"
          ]
        }
      ],
      "execution_count": 128,
      "metadata": {
        "ExecuteTime": {
          "end_time": "2020-01-22T14:00:04.736904Z",
          "start_time": "2020-01-22T14:00:04.731029Z"
        }
      }
    },
    {
      "cell_type": "markdown",
      "source": [
        "## Exceptions"
      ],
      "metadata": {}
    },
    {
      "cell_type": "markdown",
      "source": [
        "In Python errors are managed with a special language construct called \"Exceptions\". When errors occur exceptions can be raised, which interrupts the normal program flow and fallback to somewhere else in the code where the closest try-except statement is defined."
      ],
      "metadata": {}
    },
    {
      "cell_type": "markdown",
      "source": [
        "To generate an exception we can use the `raise` statement, which takes an argument that must be an instance of the class `BaseException` or a class derived from it. "
      ],
      "metadata": {}
    },
    {
      "cell_type": "code",
      "source": [
        "raise Exception(\"description of the error\")"
      ],
      "outputs": [
        {
          "output_type": "error",
          "ename": "Exception",
          "evalue": "description of the error",
          "traceback": [
            "\u001b[0;31m---------------------------------------------------------------------------\u001b[0m",
            "\u001b[0;31mException\u001b[0m                                 Traceback (most recent call last)",
            "\u001b[0;32m<ipython-input-129-c32f93e4dfa0>\u001b[0m in \u001b[0;36m<module>\u001b[0;34m\u001b[0m\n\u001b[0;32m----> 1\u001b[0;31m \u001b[0;32mraise\u001b[0m \u001b[0mException\u001b[0m\u001b[0;34m(\u001b[0m\u001b[0;34m\"description of the error\"\u001b[0m\u001b[0;34m)\u001b[0m\u001b[0;34m\u001b[0m\u001b[0;34m\u001b[0m\u001b[0m\n\u001b[0m",
            "\u001b[0;31mException\u001b[0m: description of the error"
          ]
        }
      ],
      "execution_count": 129,
      "metadata": {
        "ExecuteTime": {
          "end_time": "2020-01-22T14:00:05.557586Z",
          "start_time": "2020-01-22T14:00:05.551702Z"
        }
      }
    },
    {
      "cell_type": "markdown",
      "source": [
        "A typical use of exceptions is to abort functions when some error condition occurs, for example:\n",
        "\n",
        "    def my_function(arguments):\n",
        "    \n",
        "        if not verify(arguments):\n",
        "            raise Exception(\"Invalid arguments\")\n",
        "        \n",
        "        # rest of the code goes here"
      ],
      "metadata": {}
    },
    {
      "cell_type": "markdown",
      "source": [
        "To gracefully catch errors that are generated by functions and class methods, or by the Python interpreter itself, use the `try` and  `except` statements:\n",
        "\n",
        "    try:\n",
        "        # normal code goes here\n",
        "    except:\n",
        "        # code for error handling goes here\n",
        "        # this code is not executed unless the code\n",
        "        # above generated an error\n",
        "\n",
        "For example:"
      ],
      "metadata": {}
    },
    {
      "cell_type": "code",
      "source": [
        "try:\n",
        "    print(\"test\")\n",
        "    # generate an error: the variable test is not defined\n",
        "    print(test)\n",
        "except:\n",
        "    print(\"Caught an exception\")"
      ],
      "outputs": [
        {
          "output_type": "stream",
          "name": "stdout",
          "text": [
            "test\n",
            "Caught an exception\n"
          ]
        }
      ],
      "execution_count": 130,
      "metadata": {
        "ExecuteTime": {
          "end_time": "2020-01-22T14:00:06.202433Z",
          "start_time": "2020-01-22T14:00:06.199700Z"
        }
      }
    },
    {
      "cell_type": "markdown",
      "source": [
        "To get information about the error, we can access the `Exception` class instance that describes the exception by using for example:\n",
        "\n",
        "    except Exception as e:"
      ],
      "metadata": {}
    },
    {
      "cell_type": "code",
      "source": [
        "try:\n",
        "    print(\"test\")\n",
        "    # generate an error: the variable test is not defined\n",
        "    print(test)\n",
        "except Exception as e:\n",
        "    print(\"Caught an exception:\" + str(e))"
      ],
      "outputs": [
        {
          "output_type": "stream",
          "name": "stdout",
          "text": [
            "test\n",
            "Caught an exception:name 'test' is not defined\n"
          ]
        }
      ],
      "execution_count": 131,
      "metadata": {
        "ExecuteTime": {
          "end_time": "2020-01-22T14:00:06.602553Z",
          "start_time": "2020-01-22T14:00:06.599619Z"
        }
      }
    },
    {
      "cell_type": "markdown",
      "source": [
        "## Further reading"
      ],
      "metadata": {}
    },
    {
      "cell_type": "markdown",
      "source": [
        "* http://www.python.org - The official web page of the Python programming language.\n",
        "* http://www.python.org/dev/peps/pep-0008 - Style guide for Python programming. Highly recommended. \n",
        "* http://www.greenteapress.com/thinkpython/ - A free book on Python programming.\n",
        "* [Python Essential Reference](http://www.amazon.com/Python-Essential-Reference-4th-Edition/dp/0672329786) - A good reference book on Python programming."
      ],
      "metadata": {}
    },
    {
      "cell_type": "markdown",
      "source": [
        "## Versions"
      ],
      "metadata": {}
    },
    {
      "cell_type": "code",
      "source": [
        "%load_ext version_information\n",
        "\n",
        "%version_information"
      ],
      "outputs": [
        {
          "output_type": "execute_result",
          "execution_count": 132,
          "data": {
            "application/json": {
              "Software versions": [
                {
                  "module": "Python",
                  "version": "3.7.6 64bit [Clang 4.0.1 (tags/RELEASE_401/final)]"
                },
                {
                  "module": "IPython",
                  "version": "7.11.1"
                },
                {
                  "module": "OS",
                  "version": "Darwin 19.2.0 x86_64 i386 64bit"
                }
              ]
            },
            "text/html": [
              "<table><tr><th>Software</th><th>Version</th></tr><tr><td>Python</td><td>3.7.6 64bit [Clang 4.0.1 (tags/RELEASE_401/final)]</td></tr><tr><td>IPython</td><td>7.11.1</td></tr><tr><td>OS</td><td>Darwin 19.2.0 x86_64 i386 64bit</td></tr><tr><td colspan='2'>Wed Jan 22 09:00:07 2020 EST</td></tr></table>"
            ],
            "text/latex": [
              "\\begin{tabular}{|l|l|}\\hline\n",
              "{\\bf Software} & {\\bf Version} \\\\ \\hline\\hline\n",
              "Python & 3.7.6 64bit [Clang 4.0.1 (tags/RELEASE\\_401/final)] \\\\ \\hline\n",
              "IPython & 7.11.1 \\\\ \\hline\n",
              "OS & Darwin 19.2.0 x86\\_64 i386 64bit \\\\ \\hline\n",
              "\\hline \\multicolumn{2}{|l|}{Wed Jan 22 09:00:07 2020 EST} \\\\ \\hline\n",
              "\\end{tabular}\n"
            ],
            "text/plain": [
              "Software versions\n",
              "Python 3.7.6 64bit [Clang 4.0.1 (tags/RELEASE_401/final)]\n",
              "IPython 7.11.1\n",
              "OS Darwin 19.2.0 x86_64 i386 64bit\n",
              "Wed Jan 22 09:00:07 2020 EST"
            ]
          },
          "metadata": {}
        }
      ],
      "execution_count": 132,
      "metadata": {
        "ExecuteTime": {
          "end_time": "2020-01-22T14:00:07.686690Z",
          "start_time": "2020-01-22T14:00:07.530809Z"
        }
      }
    }
  ],
  "metadata": {
    "kernel_info": {
      "name": "python3"
    },
    "kernelspec": {
      "name": "python3",
      "language": "python",
      "display_name": "Python 3"
    },
    "language_info": {
      "name": "python",
      "version": "3.7.6",
      "mimetype": "text/x-python",
      "codemirror_mode": {
        "name": "ipython",
        "version": 3
      },
      "pygments_lexer": "ipython3",
      "nbconvert_exporter": "python",
      "file_extension": ".py"
    },
    "nteract": {
      "version": "0.15.0"
    }
  },
  "nbformat": 4,
  "nbformat_minor": 4
}