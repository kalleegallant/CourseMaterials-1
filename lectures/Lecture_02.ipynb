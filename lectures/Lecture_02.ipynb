{
 "cells": [
  {
   "cell_type": "code",
   "execution_count": 2,
   "metadata": {
    "ExecuteTime": {
     "end_time": "2020-01-24T03:25:05.378287Z",
     "start_time": "2020-01-24T03:25:05.030798Z"
    }
   },
   "outputs": [],
   "source": [
    "##  Initialization cell - \n",
    "## This loads all the libraries,\n",
    "##  sets up the plotting style,\n",
    "##  and shows the version info.\n",
    "%matplotlib widget\n",
    "import numpy as np\n",
    "import matplotlib.pyplot as plt\n",
    "import matplotlib as mpl\n",
    "plt.style.use('dark_background')\n",
    "plt.rc('text', usetex=True)\n",
    "plt.rc('font', family='serif')\n",
    "mpl.rcParams['figure.figsize'] = (7,5)\n",
    "#%load_ext version_information\n",
    "#%version_information scipy, numpy, matplotlib"
   ]
  },
  {
   "cell_type": "markdown",
   "metadata": {},
   "source": [
    "# Physics 261: Lecture 02\n",
    " 27 Jan 2020\n",
    " Topics: Customizing  jupyter notebooks, bash terminal, reproducibility, initialization cells, jupyterlab-git"
   ]
  },
  {
   "cell_type": "markdown",
   "metadata": {},
   "source": [
    "## Customizing Jupyter \n",
    "### Customizing Jupyter Notebooks\n",
    "This has absolutely nothing to do with efficiency as a programmer, and \n",
    "is all about aesthetics.<br> \n",
    "There is a great package for theme-ifying jupyter\n",
    "notebooks---it's called [jupyterthemes](https://github.com/dunovank/jupyter-themes), and<br>\n",
    "you install it by opening a terminal window and typing \n",
    "```bash\n",
    "pip install jupyterthemes\n",
    "pip install --upgrade jupyterthemes\n",
    "```\n",
    "Then, in the terminal window, here are two different possible themes you may like;<br>\n",
    "the first is a light colored theme, and the second is a dark theme:\n",
    "```bash\n",
    "jt -t grade3 -tf georgiaserif -tfs 13 -nf ebserif -nfs 14 -fs 10 -f source -cursc r -cursw 5  -T -N -kl -cellw 88%\n",
    "jt -t onedork -tf georgiaserif -tfs 13 -nf ebserif -nfs 14 -fs 10 -f source -cursc r -cursw 5  -T -N -kl -cellw 88%\n",
    "```\n",
    "To change the theme, you simply enter a new command in a terminal window; you can read about the commands on the \n",
    "[jupyterthemes](https://github.com/dunovank/jupyter-themes) site.\n",
    "### Customizing JupyterLab\n",
    "JupyterLab has an extension manager that allows one to install more capabilities to the JupyterLab environment;\n",
    "among these extensions are a number of themes that are easy to install. Just type \"theme\" into the extension manager search\n",
    "bar. However, since the extensions manager is somewhat experimental, I have found that you may accidentally mess things up by installing an extension. Fortunately, for you, if you use the our server, I've already safely installed a few themse for you to use, and I recommend that you don't try to use the extension manager to install others. "
   ]
  },
  {
   "cell_type": "markdown",
   "metadata": {},
   "source": [
    "## The linux terminal (bash, zsh, etc...)\n",
    "When you login to a linux server, you often have no graphical user interface, and must interact with the \n",
    "computer (i.e. create folders, files, run programs) all through typing commands in a terminal window. \n",
    "When you login to our physics server, you are actually logging into a jupyterhub server and you are presented\n",
    "with a browser-based interface. \n",
    "However, buried in this interface is a linux command shell (or linux terminal) which will allow you limited access \n",
    "to files in your directory, and will allow the experienced user the ability to do all matter of good and evil on the \n",
    "computer. You can see a list of linux commands at [A to Z list of Linux Commands](https://ss64.com/bash/); however, the\n",
    "commands I use most often are <br>\n",
    "    1. **ls** (list files in current directory) <br>\n",
    "    2. **pwd** (pring working directory) <br>\n",
    "    3. **cd** (change directory) <br>\n",
    "    4. **mkdir** (create a folder) <br>\n",
    "    5. **rm** (remove---this has a dangerous option which includes completely destroying the entire contents of the computer disk) <br>"
   ]
  },
  {
   "cell_type": "markdown",
   "metadata": {},
   "source": [
    "## Reproducibility\n",
    "One of the wonderful features of the Jupyter Notebook is the ability to combine text, graphics, multimedia, mathematics, and analysis\n",
    "all in one file, and to be able to communicate to the reader how you approached and solved a problem. For all if your assignments, and \n",
    "*especially* for the projects we will undertake, I want each of you to use this functionality to explain and document your thinking. \n",
    "\n",
    "There is a reason I feel strongly about this; it stems from my steadfast belief that the scientific process is one of the best ways we \n",
    "have to learn about the world, and that to engage in the scientific process requires one to be open and honest about the methods of data collection, the uncertaintie on the data gathering instruments, as well as the analysis of the data. Perhaps the most famous use of Jupyter Notebooks is by the LIGO Collaboration---their detection of gravitational waves resulted in the 2017 Nobel Prize in Physics. You can read about it [on the Jupyter Blog](https://blog.jupyter.org/congratulations-to-the-ligo-and-virgo-collaborations-from-project-jupyter-5923247be019), and see actual notebooks involved in their analysis [here](https://www.gw-openscience.org/tutorials/).\n",
    "\n",
    "In computational physics, this means you should be open about the model you use to solve a problem, explain your thinking clearly, and test your model in simple cases where you know what the result should be. You'll see more what I mean about this when we're finished with our introduction to python and begin with computational physics itself. "
   ]
  },
  {
   "cell_type": "markdown",
   "metadata": {},
   "source": [
    "## Jupyterlab-git\n",
    "I was planning to have everyone use the jupyter notebook interface for the first month of class, but the cumbersomeness of \n",
    "the github classroom process has led me to find something simpler. So, I will introduce you to the jupyterlab interface, and I will show you how, right now, you can clone this notebook to your jupyterhub account, and then download it to your own computer. "
   ]
  }
 ],
 "metadata": {
  "kernel_info": {
   "name": "python3"
  },
  "kernelspec": {
   "display_name": "Python 3",
   "language": "python",
   "name": "python3"
  },
  "language_info": {
   "codemirror_mode": {
    "name": "ipython",
    "version": 3
   },
   "file_extension": ".py",
   "mimetype": "text/x-python",
   "name": "python",
   "nbconvert_exporter": "python",
   "pygments_lexer": "ipython3",
   "version": "3.6.7"
  },
  "nteract": {
   "version": "0.15.0"
  },
  "toc": {
   "base_numbering": 1,
   "nav_menu": {},
   "number_sections": true,
   "sideBar": true,
   "skip_h1_title": false,
   "title_cell": "Table of Contents",
   "title_sidebar": "Contents",
   "toc_cell": false,
   "toc_position": {},
   "toc_section_display": true,
   "toc_window_display": false
  },
  "varInspector": {
   "cols": {
    "lenName": 16,
    "lenType": 16,
    "lenVar": 40
   },
   "kernels_config": {
    "python": {
     "delete_cmd_postfix": "",
     "delete_cmd_prefix": "del ",
     "library": "var_list.py",
     "varRefreshCmd": "print(var_dic_list())"
    },
    "r": {
     "delete_cmd_postfix": ") ",
     "delete_cmd_prefix": "rm(",
     "library": "var_list.r",
     "varRefreshCmd": "cat(var_dic_list()) "
    }
   },
   "types_to_exclude": [
    "module",
    "function",
    "builtin_function_or_method",
    "instance",
    "_Feature"
   ],
   "window_display": false
  }
 },
 "nbformat": 4,
 "nbformat_minor": 4
}
