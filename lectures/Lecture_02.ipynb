{
  "cells": [
    {
      "cell_type": "code",
      "source": [
        "##  Initialization cell - \n",
        "## This loads all the libraries,\n",
        "##  sets up the plotting style,\n",
        "##  and shows the version info.\n",
        "%matplotlib widget\n",
        "import numpy as np\n",
        "import matplotlib.pyplot as plt\n",
        "import matplotlib as mpl\n",
        "plt.style.use('dark_background')\n",
        "plt.rc('text', usetex=True)\n",
        "plt.rc('font', family='serif')\n",
        "mpl.rcParams['figure.figsize'] = (7,5)\n",
        "%load_ext version_information\n",
        "%version_information scipy, numpy, matplotlib"
      ],
      "outputs": [
        {
          "output_type": "execute_result",
          "execution_count": 1,
          "data": {
            "application/json": {
              "Software versions": [
                {
                  "module": "Python",
                  "version": "3.7.6 64bit [Clang 4.0.1 (tags/RELEASE_401/final)]"
                },
                {
                  "module": "IPython",
                  "version": "7.11.1"
                },
                {
                  "module": "OS",
                  "version": "Darwin 19.2.0 x86_64 i386 64bit"
                },
                {
                  "module": "scipy",
                  "version": "1.3.1"
                },
                {
                  "module": "numpy",
                  "version": "1.18.1"
                },
                {
                  "module": "matplotlib",
                  "version": "3.1.1"
                }
              ]
            },
            "text/html": [
              "<table><tr><th>Software</th><th>Version</th></tr><tr><td>Python</td><td>3.7.6 64bit [Clang 4.0.1 (tags/RELEASE_401/final)]</td></tr><tr><td>IPython</td><td>7.11.1</td></tr><tr><td>OS</td><td>Darwin 19.2.0 x86_64 i386 64bit</td></tr><tr><td>scipy</td><td>1.3.1</td></tr><tr><td>numpy</td><td>1.18.1</td></tr><tr><td>matplotlib</td><td>3.1.1</td></tr><tr><td colspan='2'>Fri Jan 24 21:39:22 2020 EST</td></tr></table>"
            ],
            "text/latex": [
              "\\begin{tabular}{|l|l|}\\hline\n",
              "{\\bf Software} & {\\bf Version} \\\\ \\hline\\hline\n",
              "Python & 3.7.6 64bit [Clang 4.0.1 (tags/RELEASE\\_401/final)] \\\\ \\hline\n",
              "IPython & 7.11.1 \\\\ \\hline\n",
              "OS & Darwin 19.2.0 x86\\_64 i386 64bit \\\\ \\hline\n",
              "scipy & 1.3.1 \\\\ \\hline\n",
              "numpy & 1.18.1 \\\\ \\hline\n",
              "matplotlib & 3.1.1 \\\\ \\hline\n",
              "\\hline \\multicolumn{2}{|l|}{Fri Jan 24 21:39:22 2020 EST} \\\\ \\hline\n",
              "\\end{tabular}\n"
            ],
            "text/plain": [
              "Software versions\n",
              "Python 3.7.6 64bit [Clang 4.0.1 (tags/RELEASE_401/final)]\n",
              "IPython 7.11.1\n",
              "OS Darwin 19.2.0 x86_64 i386 64bit\n",
              "scipy 1.3.1\n",
              "numpy 1.18.1\n",
              "matplotlib 3.1.1\n",
              "Fri Jan 24 21:39:22 2020 EST"
            ]
          },
          "metadata": {}
        }
      ],
      "execution_count": 1,
      "metadata": {
        "ExecuteTime": {
          "end_time": "2020-01-24T03:25:05.378287Z",
          "start_time": "2020-01-24T03:25:05.030798Z"
        }
      }
    },
    {
      "cell_type": "markdown",
      "source": [
        "# Physics 261: Lecture 02\n",
        " 27 Jan 2020\n",
        " Topics: Customizing  jupyter notebooks, bash terminal, reproducibility, initialization cells"
      ],
      "metadata": {}
    },
    {
      "cell_type": "markdown",
      "source": [
        "## Customizing Jupyter \n",
        "### Customizing Jupyter Notebooks\n",
        "This has absolutely nothing to do with efficiency as a programmer, and \n",
        "is all about aesthetics.<br> \n",
        "There is a great package for theme-ifying jupyter\n",
        "notebooks---it's called [jupyterthemes](https://github.com/dunovank/jupyter-themes), and<br>\n",
        "you install it by opening a terminal window and typing \n",
        "```bash\n",
        "pip install jupyterthemes\n",
        "pip install --upgrade jupyterthemes\n",
        "```\n",
        "Then, in the terminal window, here are two different possible themes you may like;<br>\n",
        "the first is a light colored theme, and the second is a dark theme:\n",
        "```bash\n",
        "jt -t grade3 -tf georgiaserif -tfs 13 -nf ebserif -nfs 14 -fs 10 -f source -cursc r -cursw 5  -T -N -kl -cellw 88%\n",
        "jt -t onedork -tf georgiaserif -tfs 13 -nf ebserif -nfs 14 -fs 10 -f source -cursc r -cursw 5  -T -N -kl -cellw 88%\n",
        "```\n",
        "To change the theme, you simply enter a new command in a terminal window; you can read about the commands on the \n",
        "[jupyterthemes](https://github.com/dunovank/jupyter-themes) site.\n",
        "### Customizing JupyterLab\n",
        "JupyterLab has an extension manager that allows one to install more capabilities to the JupyterLab environment;\n",
        "among these extensions are a number of themes that are easy to install. Just type \"theme\" into the extension manager search\n",
        "bar. However, since the extensions manager is somewhat experimental, I have found that you may accidentally mess things up by installing an extension. Fortunately, for you, if you use the our server, I've already safely installed a few themse for you to use, and I recommend that you don't try to use the extension manager to install others. "
      ],
      "metadata": {}
    },
    {
      "cell_type": "markdown",
      "source": [
        "## The linux terminal (bash, zsh, etc...)\n",
        "When you login to a linux server, you often have no graphical user interface, and must interact with the \n",
        "computer (i.e. create folders, files, run programs) all through typing commands in a terminal window. \n",
        "When you login to our physics server, you are actually logging into a jupyterhub server and you are presented\n",
        "with a browser-based interface. \n",
        "However, buried in this interface is a linux command shell (or linux terminal) which will allow you limited access \n",
        "to files in your directory, and will allow the experienced user the ability to do all matter of good and evil on the \n",
        "computer. You can see a list of linux commands at [A to Z list of Linux Commands](https://ss64.com/bash/); however, the\n",
        "commands I use most often are <br>\n",
        "    1. **ls** (list files in current directory) <br>\n",
        "    2. **pwd** (pring working directory) <br>\n",
        "    3. **cd** (change directory) <br>\n",
        "    4. **mkdir** (create a folder) <br>\n",
        "    5. **rm** (remove---this has a dangerous option which includes completely destroying the entire contents of the computer disk) <br>"
      ],
      "metadata": {}
    },
    {
      "cell_type": "markdown",
      "source": [
        "## Reproducibility\n",
        "One of the wonderful features of the Jupyter Notebook is the ability to combine text, graphics, multimedia, mathematics, and analysis\n",
        "all in one file, and to be able to communicate to the reader how you approached and solved a problem. For all if your assignments, and \n",
        "*especially* for the projects we will undertake, I want each of you to use this functionality to explain and document your thinking. \n",
        "\n",
        "There is a reason I feel strongly about this; it stems from my steadfast belief that the scientific process is one of the best ways we \n",
        "have to learn about the world, and that to engage in the scientific process requires one to be open and honest about the methods of data collection, the uncertaintie on the data gathering instruments, as well as the analysis of the data. Perhaps the most famous use of Jupyter Notebooks is by the LIGO Collaboration---their detection of gravitational waves resulted in the 2017 Nobel Prize in Physics. You can read about it [on the Jupyter Blog](https://blog.jupyter.org/congratulations-to-the-ligo-and-virgo-collaborations-from-project-jupyter-5923247be019), and see actual notebooks involved in their analysis [here](https://www.gw-openscience.org/tutorials/).\n",
        "\n",
        "In computational physics, this means you should be open about the model you use to solve a problem, explain your thinking clearly, and test your model in simple cases where you know what the result should be. You'll see more what I mean about this when we're finished with our introduction to python and begin with computational physics itself. "
      ],
      "metadata": {}
    }
  ],
  "metadata": {
    "kernelspec": {
      "name": "python3",
      "language": "python",
      "display_name": "Python 3"
    },
    "language_info": {
      "name": "python",
      "version": "3.7.6",
      "mimetype": "text/x-python",
      "codemirror_mode": {
        "name": "ipython",
        "version": 3
      },
      "pygments_lexer": "ipython3",
      "nbconvert_exporter": "python",
      "file_extension": ".py"
    },
    "toc": {
      "toc_position": {},
      "skip_h1_title": false,
      "number_sections": true,
      "title_cell": "Table of Contents",
      "toc_window_display": false,
      "base_numbering": 1,
      "toc_section_display": true,
      "title_sidebar": "Contents",
      "toc_cell": false,
      "nav_menu": {},
      "sideBar": true
    },
    "varInspector": {
      "cols": {
        "lenName": 16,
        "lenType": 16,
        "lenVar": 40
      },
      "kernels_config": {
        "python": {
          "delete_cmd_postfix": "",
          "delete_cmd_prefix": "del ",
          "library": "var_list.py",
          "varRefreshCmd": "print(var_dic_list())"
        },
        "r": {
          "delete_cmd_postfix": ") ",
          "delete_cmd_prefix": "rm(",
          "library": "var_list.r",
          "varRefreshCmd": "cat(var_dic_list()) "
        }
      },
      "types_to_exclude": [
        "module",
        "function",
        "builtin_function_or_method",
        "instance",
        "_Feature"
      ],
      "window_display": false
    },
    "kernel_info": {
      "name": "python3"
    },
    "nteract": {
      "version": "0.15.0"
    }
  },
  "nbformat": 4,
  "nbformat_minor": 4
}