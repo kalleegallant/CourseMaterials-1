{
 "cells": [
  {
   "cell_type": "markdown",
   "metadata": {},
   "source": [
    "# Lecture 05: Misc. Tidbits\n",
    "## 5 Feb 2020\n",
    "### Topics: LA Program Survey, slicing lists, numpy arrays, reshaping, iPython"
   ]
  },
  {
   "cell_type": "markdown",
   "metadata": {},
   "source": [
    "## Learning Assistant (LA) program survey\n",
    "Please take a moment and fill out this survey for the LA Program:<br>\n",
    "https://www.surveymonkey.com/r/LApresp20 <br>\n",
    "This will provide valuable information for our efforts to assess and \n",
    "improve the program. "
   ]
  },
  {
   "cell_type": "markdown",
   "metadata": {},
   "source": [
    "## Slicing Lists \n",
    "You can read about this in our two textbooks:<br>\n",
    "In Kinder & Nelson on pp. 24-25, and in Scopatz & Huff on pp. 289-292. <br>\n",
    "\n",
    "### Slicing python lists\n",
    "You can slice python lists in a manner similar to numPy arrays. For instance, consider the list"
   ]
  },
  {
   "cell_type": "code",
   "execution_count": 1,
   "metadata": {},
   "outputs": [],
   "source": [
    "fib_list = [1, 1, 2, 3, 5, 8, 13, 21]"
   ]
  },
  {
   "cell_type": "markdown",
   "metadata": {},
   "source": [
    "We can extract the zeroth, second, fourth, and sixth elements by"
   ]
  },
  {
   "cell_type": "code",
   "execution_count": 2,
   "metadata": {},
   "outputs": [
    {
     "data": {
      "text/plain": [
       "[1, 2, 5, 13]"
      ]
     },
     "execution_count": 2,
     "metadata": {},
     "output_type": "execute_result"
    }
   ],
   "source": [
    "fib_list[0: :2]"
   ]
  },
  {
   "cell_type": "markdown",
   "metadata": {},
   "source": [
    "The key here is that the format is \n",
    "```python\n",
    "my_list[start:stop:stride]\n",
    "```\n",
    "where *start* defaults to zero, and *stop* defaults to the last element of the list, and *stride* is how many index values to increment your sampling of your path through the list. For example, if I didn't want to include the number 13 in my previous example, I could simply write"
   ]
  },
  {
   "cell_type": "code",
   "execution_count": 3,
   "metadata": {},
   "outputs": [
    {
     "data": {
      "text/plain": [
       "[1, 2, 5]"
      ]
     },
     "execution_count": 3,
     "metadata": {},
     "output_type": "execute_result"
    }
   ],
   "source": [
    "fib_list[0:6:2]"
   ]
  },
  {
   "cell_type": "markdown",
   "metadata": {},
   "source": [
    "Notice that the 6 in the *stop* location means ''up to but not including the 6th index value''"
   ]
  },
  {
   "cell_type": "markdown",
   "metadata": {},
   "source": [
    "## Slicing numPy arrays: 1d\n",
    "The same method applies to numPy arrays. If the array is one-dimensional, then the method is exactly the same as I just described for native python lists. For example, let's create a numPy version of fib_list:"
   ]
  },
  {
   "cell_type": "code",
   "execution_count": 7,
   "metadata": {},
   "outputs": [],
   "source": [
    "import numpy as np"
   ]
  },
  {
   "cell_type": "code",
   "execution_count": 5,
   "metadata": {},
   "outputs": [
    {
     "data": {
      "text/plain": [
       "array([ 1,  1,  2,  3,  5,  8, 13, 21])"
      ]
     },
     "execution_count": 5,
     "metadata": {},
     "output_type": "execute_result"
    }
   ],
   "source": [
    "fib_array = np.array(fib_list)\n",
    "fib_array"
   ]
  },
  {
   "cell_type": "markdown",
   "metadata": {},
   "source": [
    "Let's extract every other element from this array as we did before:"
   ]
  },
  {
   "cell_type": "code",
   "execution_count": 6,
   "metadata": {},
   "outputs": [
    {
     "data": {
      "text/plain": [
       "array([ 1,  2,  5, 13])"
      ]
     },
     "execution_count": 6,
     "metadata": {},
     "output_type": "execute_result"
    }
   ],
   "source": [
    "fib_array[0: :2]"
   ]
  },
  {
   "cell_type": "markdown",
   "metadata": {},
   "source": [
    "When you slice a python list, you obtain another python list; when you slice a numpy array, you obtain another numpy array."
   ]
  },
  {
   "cell_type": "markdown",
   "metadata": {},
   "source": [
    "## Slicing numPy arrays: 2d\n",
    "If you have a 2d numpy array, the synatax for slicing is similar. For example, let's create a 4 row by 5 column array filled with integers starting with 1...what's a simple way to do this?"
   ]
  },
  {
   "cell_type": "markdown",
   "metadata": {},
   "source": []
  },
  {
   "cell_type": "code",
   "execution_count": null,
   "metadata": {},
   "outputs": [],
   "source": []
  },
  {
   "cell_type": "code",
   "execution_count": null,
   "metadata": {},
   "outputs": [],
   "source": []
  },
  {
   "cell_type": "markdown",
   "metadata": {},
   "source": [
    "# Using the iPython terminal\n",
    "Start up an iPython terminal in Jupyter Lab by going to the File menus and selecting New > Console.\n",
    "You can then drag the console over to the side of you screen. \n",
    "An excellent presentation about the iPython took place at EuroPython:<br>\n",
    "https://ep2019.europython.eu/media/conference/slides/cBeHNyZ-wait-ipython-can-do-that.pdf <br>\n",
    "It's worth reading, and I hereby ask you to read through the first 54 slides linked here as your weekend homework.\n",
    "When I say 'read' I mean to open up an iPython console and try the code you read about so that you can see what the \n",
    "presenter was illustrating in action. "
   ]
  },
  {
   "cell_type": "markdown",
   "metadata": {},
   "source": [
    "## Matplotlib aninmations\n",
    "There is a new package I just read about to make it easy to do an animation using Matplotlib:<br>\n",
    "https://t.co/LM0DeXJ4V9?amp=1 <br>\n",
    "See if you can get use this package to create the animation of a sine wave whose phase increases steadily from 0 to $2\\pi$; that is, \n",
    "make an animated plot of \n",
    "$$ y = \\sin(2\\pi t + \\phi),$$\n",
    "where $\\phi$ ranges from $0 \\rightarrow 2\\pi$. The plot should have $y$ on the vertical axis and $t$ on the horizontal axis, with $t$ ranging from 0 to 1."
   ]
  },
  {
   "cell_type": "code",
   "execution_count": null,
   "metadata": {},
   "outputs": [],
   "source": []
  }
 ],
 "metadata": {
  "kernelspec": {
   "display_name": "Python 3",
   "language": "python",
   "name": "python3"
  },
  "language_info": {
   "codemirror_mode": {
    "name": "ipython",
    "version": 3
   },
   "file_extension": ".py",
   "mimetype": "text/x-python",
   "name": "python",
   "nbconvert_exporter": "python",
   "pygments_lexer": "ipython3",
   "version": "3.6.7"
  }
 },
 "nbformat": 4,
 "nbformat_minor": 4
}
